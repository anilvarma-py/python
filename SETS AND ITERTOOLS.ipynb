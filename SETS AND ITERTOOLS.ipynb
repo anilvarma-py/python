{
 "cells": [
  {
   "cell_type": "markdown",
   "metadata": {},
   "source": [
    "### SETS ARE DATA STRUCTURES SIMILAR TO LISTS OR DICTIONARIES .THEY ARE CREATED USING CURLY BRACED ,OR THE SET FUNCTION .THEY SHARE SOME FUNCTIONALITY WITH LISTS ,SUCH AS USE OF \"IN \" TO CHECK WHETHER THEY CONTAIN A PARTICULAR ITEM."
   ]
  },
  {
   "cell_type": "code",
   "execution_count": 4,
   "metadata": {},
   "outputs": [
    {
     "name": "stdout",
     "output_type": "stream",
     "text": [
      "True\n",
      "False\n"
     ]
    }
   ],
   "source": [
    "nums_set={1,2,3,4,5,6,7,8,5,5}\n",
    "word_set=set(['spam','eggs','ham'])\n",
    "print(3 in nums_set)\n",
    "print('spam'  not in word_set)\n"
   ]
  },
  {
   "cell_type": "code",
   "execution_count": 6,
   "metadata": {},
   "outputs": [
    {
     "name": "stdout",
     "output_type": "stream",
     "text": [
      "2\n"
     ]
    }
   ],
   "source": [
    "letters={'a','b','c','d','e','f'}\n",
    "if 'e'not in letters:\n",
    "    print(1)\n",
    "else:\n",
    "    print(2)"
   ]
  },
  {
   "cell_type": "markdown",
   "metadata": {},
   "source": [
    " sets differ from lists in different ways ,but share several list operations like len.\n",
    "they are unordered which means that they cant be indexed.\n",
    "they cannot contain duplicate elements.\n",
    "due to the way they are stored its faster to check wheather an item is part of the set,rather that part of a list.\n",
    "instead of using append to add a set ,use add .\n",
    "the method \"remove\" removes a specific element from the set;pop removes the arbitary element."
   ]
  },
  {
   "cell_type": "code",
   "execution_count": 7,
   "metadata": {},
   "outputs": [
    {
     "name": "stdout",
     "output_type": "stream",
     "text": [
      "{1, 2, 3, 4, 5, 6, 7, 8, 9}\n",
      "{2, 3, 4, 5, 6, 7, 8, 9, -3}\n"
     ]
    }
   ],
   "source": [
    "nums={1,2,3,4,5,6,7,8,9,9,3,4,}\n",
    "print(nums)\n",
    "nums.add(-3)\n",
    "nums.remove(1)\n",
    "print(nums)"
   ]
  },
  {
   "cell_type": "code",
   "execution_count": null,
   "metadata": {},
   "outputs": [],
   "source": [
    "sets can be combined using mathematical operations.\n",
    "the union operator \"|\" combines two sets to form a new one containing items in either.\n",
    "the intersection operator  & gets items only in both.\n",
    "the difference operator \"-\" gets items in the first set ,but not in the second\n",
    "the symmetric difference operator \"^\"gets items in either set, but not both."
   ]
  },
  {
   "cell_type": "code",
   "execution_count": 9,
   "metadata": {},
   "outputs": [
    {
     "name": "stdout",
     "output_type": "stream",
     "text": [
      "{1, 2, 3, 4, 5, 6, 7, 8, 9, 10}\n",
      "{4, 5, 6, 7}\n",
      "{1, 2, 3}\n",
      "{1, 2, 3, 8, 9, 10}\n"
     ]
    }
   ],
   "source": [
    "first={1,2,3,4,5,6,7}\n",
    "second={4,5,6,7,8,9,10}\n",
    "print(first | second)\n",
    "print(first & second)\n",
    "print(first - second)\n",
    "print(first ^ second)"
   ]
  },
  {
   "cell_type": "markdown",
   "metadata": {},
   "source": [
    "# DATA STUCTURES\n",
    "AS WE HAVE SEEN THE PREVIOUS VIDEOS , PYTHON SUPPORTS THE FOLLOWING DATA STRUCTURES :LISTS,DICTIONARIES,TUPLES,SETS.\n",
    "\n",
    "WHEN TO USE THE DICTIONARY:\n",
    "WHEN YOU NEED A LOGICAL ASSOSIATION BETWEEN A  \"KEY:VALUE\" PAIR\n",
    "WHEN YOU NEED FAST LOOKUP FOR YOUR DATA ,BASED ON A CUSTOM KEY\n",
    "WHEN YOUR DATA IS BEING CONSTANTLY MODIFIED,REMEMBER DICTIONARIES ARE MUTABLE.\n",
    "\n",
    "##WHEN TO USE OTHER TYPES :\n",
    "USE LISTS IF YOU HAVE A COLLECTION OF DATA THAT NOT NEED RANDOM ACCESS ,TRY TO CHOOSE LISTS WHEN YOU NEED SIMPLE ,ITRERABLE COLLECTION THAT IS MODIFIED QUICKLY.\n",
    "\n",
    "#USE A SET IF YOU NEED UNIQUENESS FOR THE ELEMENTS\n",
    "#USE A TUPLE WHEN DATA CAN NOT CHANGE\n"
   ]
  },
  {
   "cell_type": "markdown",
   "metadata": {},
   "source": []
  },
  {
   "cell_type": "markdown",
   "metadata": {},
   "source": [
    "#ITERTOOLS\n",
    "THE MODULE ITERTOOLS IS A STANDARD LIBRARY CONTAINS SEVERAL FUNCTIONS THAT ARE USEFUL IN FUNCTIONAL PROGRAMMING\n",
    "\n",
    "--ONE TYPE OF THE FUNCTION IS IT PRODUCES INFININATE ITERATORS \n",
    "--THE FUNCTION \"COUNT\" COUNTS UP INFINATELY FROM A VALUE\n",
    "--THE FUNCTION \"CYCLE\" INFINATELY ITERATES THROUGH AN ITERABLE (EG: LIST OR STRING)\n",
    "--THE FUNCTION \"REPEAT\" REPEATS AN OBJECT ,EITHER INFINATELY OR SPECIFIC NUMBER OF TIMES"
   ]
  },
  {
   "cell_type": "code",
   "execution_count": 21,
   "metadata": {},
   "outputs": [
    {
     "name": "stdout",
     "output_type": "stream",
     "text": [
      "3\n",
      "4\n",
      "5\n",
      "6\n",
      "7\n",
      "8\n",
      "9\n",
      "10\n",
      "11\n"
     ]
    }
   ],
   "source": [
    "from itertools import count\n",
    "for i in count(3):\n",
    "        print(i)\n",
    "        if i>=11:\n",
    "            break"
   ]
  },
  {
   "cell_type": "code",
   "execution_count": 27,
   "metadata": {},
   "outputs": [
    {
     "name": "stdout",
     "output_type": "stream",
     "text": [
      "[0, 1, 3, 6, 10, 15, 21, 28]\n",
      "[0, 1, 3, 6]\n"
     ]
    }
   ],
   "source": [
    "from itertools import accumulate,takewhile\n",
    "\n",
    "nums=list(accumulate(range(8)))\n",
    "print(nums)\n",
    "print(list(takewhile(lambda x:x<=6,nums)))\n"
   ]
  },
  {
   "cell_type": "code",
   "execution_count": 30,
   "metadata": {},
   "outputs": [
    {
     "name": "stdout",
     "output_type": "stream",
     "text": [
      "[('A', 0), ('A', 1), ('B', 0), ('B', 1)]\n",
      "[('A', 'B'), ('B', 'A')]\n"
     ]
    }
   ],
   "source": [
    "from itertools import product,permutations\n",
    "letters=('A','B')\n",
    "print(list(product(letters,range(2))))\n",
    "print(list(permutations(letters)))\n"
   ]
  },
  {
   "cell_type": "code",
   "execution_count": 35,
   "metadata": {},
   "outputs": [
    {
     "name": "stdout",
     "output_type": "stream",
     "text": [
      "6\n"
     ]
    }
   ],
   "source": [
    "a={2,3}\n",
    "print(len(list(product(range(3),a))))"
   ]
  },
  {
   "cell_type": "code",
   "execution_count": null,
   "metadata": {},
   "outputs": [],
   "source": []
  }
 ],
 "metadata": {
  "kernelspec": {
   "display_name": "Python 3",
   "language": "python",
   "name": "python3"
  },
  "language_info": {
   "codemirror_mode": {
    "name": "ipython",
    "version": 3
   },
   "file_extension": ".py",
   "mimetype": "text/x-python",
   "name": "python",
   "nbconvert_exporter": "python",
   "pygments_lexer": "ipython3",
   "version": "3.7.4"
  }
 },
 "nbformat": 4,
 "nbformat_minor": 2
}
