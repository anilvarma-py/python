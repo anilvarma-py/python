{
 "cells": [
  {
   "cell_type": "markdown",
   "metadata": {},
   "source": [
    "# MAGIC METHODS\n",
    "MAGIC METHODS ARE SPECIAL METHODS WHICH HAVE DOUBLE UNDERSCORES AT THE BEGGINING AND END OF THEIR NAMES.\n",
    "THEY ARE ALSO KNOWN AS DUNDERS.\n",
    "SO FAR THE ONLY ONE WE ENCOUNTERED IS __init__,BUT THERE ARE SEVERAL OTHERS.\n",
    "THEY ARE USED TO CREATE FUNCTIONALITY THAT CANT BE REPRESENTED AS A NORMAL METHOD.\n",
    "\n",
    "ONE COMMON USE OF THEM IS OPERATOR OVERLOADING .\n",
    "THIS MEANS DEFINING OPERATORS FOR CUSTOM CLASSES THAT ALLOWS OPERATORS SUCH AS + AND *TO BE USED ON THEM.\n",
    "AN EXAMPLE MAGIC METHOD IS __add__ FOR +"
   ]
  },
  {
   "cell_type": "code",
   "execution_count": 2,
   "metadata": {},
   "outputs": [
    {
     "name": "stdout",
     "output_type": "stream",
     "text": [
      "6\n",
      "8\n"
     ]
    }
   ],
   "source": [
    "class Vector2D:\n",
    "    def __init__(self,x,y):\n",
    "        self.x=x\n",
    "        self.y=y\n",
    "    def __add__(self,other):\n",
    "        return Vector2D(self.x+other.x,self.y+other.y)\n",
    "first=Vector2D(2,3)\n",
    "second=Vector2D(4,5)\n",
    "result= first+second\n",
    "print(result.x)\n",
    "print(result.y)"
   ]
  },
  {
   "cell_type": "code",
   "execution_count": null,
   "metadata": {},
   "outputs": [],
   "source": [
    "OPERATOR OVERLOADING--OPERATOR OVERLOADING IS NOTHING BUT ASSIGNING EXTRA WORK TO THE OPERATOR AND MAKING \n",
    "OPERATORS WORK FOR OBJECTS OF THE USER DEFINED CLASSES\n"
   ]
  },
  {
   "cell_type": "markdown",
   "metadata": {},
   "source": [
    "## MORE MAGIC METHODS FOR COMMON OPERATORS : \n",
    "__sub__ for-\n",
    "__mul__ for *\n",
    "__truediv__ for /\n",
    "__floordiv__ for //\n",
    "__mod__ for %\n",
    "__pow__ for **\n",
    "__and__ for &\n",
    "__xor__ for ^\n",
    "__or__ for |\n",
    "\n",
    "\n",
    "THE EXPRESSION X+Y IS TRANSLATED INTO X.__add__(Y)\n",
    "HOWEVER ,IF X HAS'NT IMPLEMENTED __add__ AND X AND Y ARE OF DIFFERENT TYPES,THEN Y.radd__(X) IS CALLED.\n",
    "\n",
    "THERE ARE EQUIVALENT \"r\" METHODS FOR ALL MAGIC METHODS JUST MENTIONED.\n"
   ]
  },
  {
   "cell_type": "code",
   "execution_count": 2,
   "metadata": {},
   "outputs": [
    {
     "name": "stdout",
     "output_type": "stream",
     "text": [
      "jimmy\n",
      "=====\n",
      "danny\n"
     ]
    }
   ],
   "source": [
    "class Dog:\n",
    "    def __init__(self,name):\n",
    "        self.name = name\n",
    "    def __truediv__(self,other):\n",
    "        line=\"=\"*len(other.name)\n",
    "        return \"\\n\".join([self.name,line,other.name])\n",
    "first_dog=Dog(\"jimmy\")\n",
    "second_dog=Dog(\"danny\")\n",
    "print(first_dog/second_dog)"
   ]
  },
  {
   "cell_type": "markdown",
   "metadata": {},
   "source": [
    "# magic methods for comparisions\n",
    "python also provides magic methods for comparisions .\n",
    "__lt__ for <\n",
    "__le__ for <=\n",
    "__eq__ for ++\n",
    "__ne__ for !=\n",
    "__gt__ for >\n",
    "__ge__ for >=\n",
    "\n",
    "if __ne__  is not implemented it returns the oppposite of __eq__\n",
    "there are no other relations between the other operators."
   ]
  },
  {
   "cell_type": "code",
   "execution_count": 13,
   "metadata": {},
   "outputs": [],
   "source": []
  },
  {
   "cell_type": "code",
   "execution_count": 22,
   "metadata": {},
   "outputs": [
    {
     "name": "stdout",
     "output_type": "stream",
     "text": [
      "spam\n",
      "eggs\n"
     ]
    },
    {
     "ename": "AttributeError",
     "evalue": "'food_type' object has no attribute 'self'",
     "output_type": "error",
     "traceback": [
      "\u001b[1;31m---------------------------------------------------------------------------\u001b[0m",
      "\u001b[1;31mAttributeError\u001b[0m                            Traceback (most recent call last)",
      "\u001b[1;32m<ipython-input-22-7d3293ed6b42>\u001b[0m in \u001b[0;36m<module>\u001b[1;34m\u001b[0m\n\u001b[0;32m     12\u001b[0m \u001b[0mprint\u001b[0m\u001b[1;33m(\u001b[0m\u001b[0mspam\u001b[0m\u001b[1;33m.\u001b[0m\u001b[0mcont\u001b[0m\u001b[1;33m)\u001b[0m\u001b[1;33m\u001b[0m\u001b[1;33m\u001b[0m\u001b[0m\n\u001b[0;32m     13\u001b[0m \u001b[0mprint\u001b[0m\u001b[1;33m(\u001b[0m\u001b[0meggs\u001b[0m\u001b[1;33m.\u001b[0m\u001b[0mcont\u001b[0m\u001b[1;33m)\u001b[0m\u001b[1;33m\u001b[0m\u001b[1;33m\u001b[0m\u001b[0m\n\u001b[1;32m---> 14\u001b[1;33m \u001b[0mspam\u001b[0m \u001b[1;33m>\u001b[0m \u001b[0meggs\u001b[0m\u001b[1;33m\u001b[0m\u001b[1;33m\u001b[0m\u001b[0m\n\u001b[0m",
      "\u001b[1;32m<ipython-input-22-7d3293ed6b42>\u001b[0m in \u001b[0;36m__gt__\u001b[1;34m(self, other)\u001b[0m\n\u001b[0;32m      6\u001b[0m         \u001b[1;32mfor\u001b[0m \u001b[0mindex\u001b[0m \u001b[1;32min\u001b[0m \u001b[0mrange\u001b[0m \u001b[1;33m(\u001b[0m\u001b[0mlen\u001b[0m\u001b[1;33m(\u001b[0m\u001b[0mother\u001b[0m\u001b[1;33m.\u001b[0m\u001b[0mcont\u001b[0m\u001b[1;33m)\u001b[0m\u001b[1;33m+\u001b[0m\u001b[1;36m1\u001b[0m\u001b[1;33m)\u001b[0m\u001b[1;33m:\u001b[0m\u001b[1;33m\u001b[0m\u001b[1;33m\u001b[0m\u001b[0m\n\u001b[0;32m      7\u001b[0m             \u001b[0mresult\u001b[0m\u001b[1;33m=\u001b[0m\u001b[0mother\u001b[0m\u001b[1;33m.\u001b[0m\u001b[0mcont\u001b[0m\u001b[1;33m[\u001b[0m\u001b[1;33m:\u001b[0m\u001b[0mindex\u001b[0m\u001b[1;33m]\u001b[0m \u001b[1;33m+\u001b[0m \u001b[1;34m\">\"\u001b[0m \u001b[1;33m+\u001b[0m \u001b[1;34m\"self.cont\"\u001b[0m\u001b[1;33m\u001b[0m\u001b[1;33m\u001b[0m\u001b[0m\n\u001b[1;32m----> 8\u001b[1;33m             \u001b[0mresult\u001b[0m \u001b[1;33m+=\u001b[0m \u001b[1;34m\">\"\u001b[0m \u001b[1;33m+\u001b[0m \u001b[0mother\u001b[0m\u001b[1;33m.\u001b[0m\u001b[0mself\u001b[0m\u001b[1;33m[\u001b[0m\u001b[0mindex\u001b[0m\u001b[1;33m:\u001b[0m\u001b[1;33m]\u001b[0m\u001b[1;33m\u001b[0m\u001b[1;33m\u001b[0m\u001b[0m\n\u001b[0m\u001b[0;32m      9\u001b[0m             \u001b[0mprint\u001b[0m\u001b[1;33m(\u001b[0m\u001b[0mresult\u001b[0m\u001b[1;33m)\u001b[0m\u001b[1;33m\u001b[0m\u001b[1;33m\u001b[0m\u001b[0m\n\u001b[0;32m     10\u001b[0m \u001b[0mspam\u001b[0m\u001b[1;33m=\u001b[0m\u001b[0mfood_type\u001b[0m\u001b[1;33m(\u001b[0m\u001b[1;34m\"spam\"\u001b[0m\u001b[1;33m)\u001b[0m\u001b[1;33m\u001b[0m\u001b[1;33m\u001b[0m\u001b[0m\n",
      "\u001b[1;31mAttributeError\u001b[0m: 'food_type' object has no attribute 'self'"
     ]
    }
   ],
   "source": [
    "class food_type:\n",
    "    def __init__(self,cont):\n",
    "        self.cont=cont\n",
    "        \n",
    "    def __gt__(self,other):\n",
    "        for index in range (len(other.cont)+1):\n",
    "            result=other.cont[:index] + \">\" + \"self.cont\"\n",
    "            result += \">\" + other.self[index:]\n",
    "            print(result)\n",
    "spam=food_type(\"spam\")\n",
    "eggs=food_type(\"eggs\")\n",
    "print(spam.cont)\n",
    "print(eggs.cont)\n",
    "spam > eggs"
   ]
  },
  {
   "cell_type": "markdown",
   "metadata": {},
   "source": [
    "# magic methds for making classes act like containers\n",
    "THERE ARE SEVERAL MAGIC METHODS FOR MAKING CLASSES ACT LIKE CONTAINERS.\n",
    "__len__ for len()\n",
    "__getitem__ for indexing\n",
    "__setitem__ for assigning in index values\n",
    "__delitem__ for deleting index values\n",
    "__iter__ for iteration  over the objects( in for loops)\n",
    "__contains__ for in\n",
    "\n",
    "there are many magicmethods that we wont cover here ,such as __call__ for calling objects as functions and \n",
    "__int__,__str__ for converting objects to built in types"
   ]
  },
  {
   "cell_type": "code",
   "execution_count": 32,
   "metadata": {},
   "outputs": [
    {
     "name": "stdout",
     "output_type": "stream",
     "text": [
      "3\n",
      "D\n",
      "C\n"
     ]
    }
   ],
   "source": [
    "import random\n",
    "\n",
    "class vaguelist:\n",
    "    def __init__(self,cont):\n",
    "        self.cont=cont\n",
    "    \n",
    "    def __getitem__(self,index):\n",
    "        return self.cont[index + random.randint(-1,1)]\n",
    "    def __len__(self):\n",
    "        return random.randint(0,len(self.cont)*2)\n",
    "list=vaguelist([\"A\",\"B\",\"C\",\"D\",\"E\",\"F\"])\n",
    "print(len(list))\n",
    "print(list[2])\n",
    "print(list[2])\n"
   ]
  },
  {
   "cell_type": "code",
   "execution_count": null,
   "metadata": {},
   "outputs": [],
   "source": []
  },
  {
   "cell_type": "code",
   "execution_count": null,
   "metadata": {},
   "outputs": [],
   "source": []
  }
 ],
 "metadata": {
  "kernelspec": {
   "display_name": "Python 3",
   "language": "python",
   "name": "python3"
  },
  "language_info": {
   "codemirror_mode": {
    "name": "ipython",
    "version": 3
   },
   "file_extension": ".py",
   "mimetype": "text/x-python",
   "name": "python",
   "nbconvert_exporter": "python",
   "pygments_lexer": "ipython3",
   "version": "3.7.4"
  }
 },
 "nbformat": 4,
 "nbformat_minor": 2
}
