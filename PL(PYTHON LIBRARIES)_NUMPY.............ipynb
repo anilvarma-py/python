{
 "cells": [
  {
   "cell_type": "markdown",
   "metadata": {},
   "source": [
    "# NUMPY\n",
    "NUMPY IS A LIBRARY FOR PYTHON PROGRAMMING LANGUAGE \n",
    "NUMPY SUPPORTS FOR LARGE ,MULTIDIMENSIONAL ARRAYS AND MATRICES, ALONG WITH A LARGE COLLECTION OF HIGH-LEVEL MATHEMATICAL FUNCTIONS TO OPERATE ON THESE ARRAYS."
   ]
  },
  {
   "cell_type": "code",
   "execution_count": null,
   "metadata": {},
   "outputs": [],
   "source": [
    "NUMPY INCLUDES SEVERAL FUNCTIONS FOR CREATING ARRAYS.YOU CAN INITILIZE ARRAYS WITH \"ONES\" OR \"ZEROS\",AND YOU CAN ALSO \n",
    "CREATE ARRAYS THAT FILLED WITH CONSTANT VALUES OR RANDOM VALUES."
   ]
  },
  {
   "cell_type": "code",
   "execution_count": 13,
   "metadata": {},
   "outputs": [
    {
     "name": "stdout",
     "output_type": "stream",
     "text": [
      "[[1. 1. 1. 1. 1. 1.]\n",
      " [1. 1. 1. 1. 1. 1.]\n",
      " [1. 1. 1. 1. 1. 1.]]\n",
      "[[0. 0. 0. 0.]\n",
      " [0. 0. 0. 0.]]\n",
      "[0.23227906 0.55942264 0.36286415]\n",
      "[[12 12]\n",
      " [12 12]]\n"
     ]
    }
   ],
   "source": [
    "import numpy as np\n",
    "a = np.ones((3,6))\n",
    "print(a)\n",
    "b = np.zeros((2,4))\n",
    "c = np.random.random(3)\n",
    "d = np.full((2,2),12)\n",
    "print(b)\n",
    "print(c)\n",
    "print(d)"
   ]
  },
  {
   "cell_type": "code",
   "execution_count": null,
   "metadata": {},
   "outputs": [],
   "source": [
    "--THERE IS ALSO OTHER FUNCTION WHICH IS AN EMPTY FUNCTION np.empty() FOR CREATING AN ARRAY OF UNINITIALIZED ELEMENTS \n",
    "THE np.eye() and np.identity() ARE FOR CREATING IDENTITY ARRAYS FOR MATRIX CALCULATIONS \n",
    "---YOU CAN OPTIONALLY SPECIFY THE DATA TYPE FOR ARRAY ELEMENTS AT THE TIME OF CREATION."
   ]
  },
  {
   "cell_type": "code",
   "execution_count": 16,
   "metadata": {},
   "outputs": [
    {
     "ename": "SyntaxError",
     "evalue": "invalid syntax (<ipython-input-16-1eb10cc3485c>, line 2)",
     "output_type": "error",
     "traceback": [
      "\u001b[1;36m  File \u001b[1;32m\"<ipython-input-16-1eb10cc3485c>\"\u001b[1;36m, line \u001b[1;32m2\u001b[0m\n\u001b[1;33m    dtype=np.float32)\u001b[0m\n\u001b[1;37m                    ^\u001b[0m\n\u001b[1;31mSyntaxError\u001b[0m\u001b[1;31m:\u001b[0m invalid syntax\n"
     ]
    }
   ],
   "source": [
    "d = np.full((2,2,),11)\n",
    "dtype=np.floa\n",
    "print(d)"
   ]
  },
  {
   "cell_type": "code",
   "execution_count": null,
   "metadata": {},
   "outputs": [],
   "source": [
    "---COPY FUNCTION copy() CREATES A COPY OF AN ARRAY FOE EXAMPLE , a=b.copy()\n",
    "---THE loadtxt() function can be used to load data from a file into an array.The load array is used to load data from\n",
    "a file into an array\n",
    "---THE save() FUNCTION IS USED TO SAVE A NUMPY ARRAY TO A FILE"
   ]
  },
  {
   "cell_type": "markdown",
   "metadata": {},
   "source": [
    "### NUMPY ARRAY SLICING\n",
    "SLICING CAN BE APPLIED TO NUMPY ARRAYS AS WITH PYTHON LISTS TO EXTRACT A SUBSET OF AN ARRAY .\n",
    "AN ARRAY SLICE REFERS TO THE ACTUAL ELEMENTS ,CHANGING THE VALUES IN THE SLICE CHANGES THE VALUE OF THE ARRAY\n",
    "--TO SLICE AN ARRAY ,YOU INDICATE THE START:STOP:STEP OF THE SUBSET IN SQUARE BRACKETS.\n",
    "FOR EXAMPLE a[1:5:2] RETURNS THE VALUE OF 1 AND 3.\n",
    "\n",
    "---FOR A MULTIDIMENSIONAL ARRAY ,SPECIFY ELEMENTS FOR EACH DIMENSION SEPERATED BY COMMA.\n",
    "FOR EXAMPLE b[0:2:1] RETURNS THE SECOND ELEMENT IN THE FIRST TWO ROWS.\n",
    "-AN ECLIPSIS ... IS USED TO INDICATE SELECTION ALONG AN ENTIRE DIMENSION.\n",
    "FOR EXAMPLE b[...,2] RETURNS THE THIRD ELEMENT OF EVERY ROW.\n",
    "\n",
    "THE CODE BELOW DEMONSTRATES SEVERAL SLICING VARIATIONS:\n"
   ]
  },
  {
   "cell_type": "code",
   "execution_count": 17,
   "metadata": {},
   "outputs": [
    {
     "name": "stdout",
     "output_type": "stream",
     "text": [
      "[0 1 2 3 4 5 6 7]\n",
      "[0 1 2 3]\n",
      "[6 7]\n",
      "[ 0  1  2  3  4  5  6 10]\n",
      "[11 21]\n",
      "[13 23]\n",
      "[13 23]\n"
     ]
    }
   ],
   "source": [
    "import numpy as np\n",
    "x = np.arange(8)\n",
    "y = x[0:4]\n",
    "z = x[6: ]\n",
    "print(x)\n",
    "print(y)\n",
    "print(z)\n",
    "\n",
    "z[1] =10\n",
    "print(x)\n",
    "\n",
    "a = np.array([[10,11,12,13,14,15,16],[20,21,22,23,24,25,26]])\n",
    "print(a[0:2,1])\n",
    "print(a[...,3])\n",
    "print(a[ : ,3])"
   ]
  },
  {
   "cell_type": "markdown",
   "metadata": {},
   "source": [
    "# NUMPY ARTHEMETIC FUNCTIONS\n",
    "ARTHEMETIC NUMPY FUNCTIONS CAN BE APPLIED TO TWO NUMPY ARRAYS\n",
    "FOR BASIC OPERATIONS USE THE SAME NAME AND INCLUDE ADD,SUBSTRACT,MUNTIPLY,DIVIDE,REMAINDER,AND POWER\n",
    "ARTHEMATIC OPERATORS +,*,/ AND "
   ]
  }
 ],
 "metadata": {
  "kernelspec": {
   "display_name": "Python 3",
   "language": "python",
   "name": "python3"
  },
  "language_info": {
   "codemirror_mode": {
    "name": "ipython",
    "version": 3
   },
   "file_extension": ".py",
   "mimetype": "text/x-python",
   "name": "python",
   "nbconvert_exporter": "python",
   "pygments_lexer": "ipython3",
   "version": "3.7.4"
  }
 },
 "nbformat": 4,
 "nbformat_minor": 2
}
