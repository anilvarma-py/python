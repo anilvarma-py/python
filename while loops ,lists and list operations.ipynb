{
 "cells": [
  {
   "cell_type": "code",
   "execution_count": 2,
   "metadata": {},
   "outputs": [
    {
     "name": "stdout",
     "output_type": "stream",
     "text": [
      "0\n",
      "1\n",
      "2\n",
      "3\n",
      "4\n",
      "5\n",
      "6\n",
      "7\n",
      "8\n",
      "breaking\n"
     ]
    }
   ],
   "source": [
    "i=0\n",
    "while 1==1:\n",
    "    print(i)\n",
    "    i=i+1\n",
    "    if i>=9 :\n",
    "       print(\"breaking\")\n",
    "       break"
   ]
  },
  {
   "cell_type": "code",
   "execution_count": 11,
   "metadata": {},
   "outputs": [
    {
     "name": "stdout",
     "output_type": "stream",
     "text": [
      "5\n",
      "4\n",
      "3\n",
      "break\n"
     ]
    }
   ],
   "source": [
    "i=5\n",
    "while True :\n",
    "    print(i)\n",
    "    i=i-1\n",
    "    if i<=2 :\n",
    "       print('break')\n",
    "       break\n"
   ]
  },
  {
   "cell_type": "code",
   "execution_count": 2,
   "metadata": {
    "scrolled": true
   },
   "outputs": [
    {
     "name": "stdout",
     "output_type": "stream",
     "text": [
      "1\n",
      "skiping 2\n",
      "3\n",
      "4\n",
      "breaking\n"
     ]
    }
   ],
   "source": [
    "i=0\n",
    "while True :\n",
    "    i=i+1\n",
    "    if i==2:\n",
    "        print('skiping 2')\n",
    "        continue\n",
    "    if i==5 :\n",
    "        print('breaking')\n",
    "        break\n",
    "    print(i)\n",
    "        "
   ]
  },
  {
   "cell_type": "markdown",
   "metadata": {},
   "source": [
    "NOTE : CONTINUE STATEMENT BREAKS THE CURRENT ITERATION AND CONTINUES WITH NEXT ONE .\n"
   ]
  },
  {
   "cell_type": "code",
   "execution_count": null,
   "metadata": {},
   "outputs": [],
   "source": []
  }
 ],
 "metadata": {
  "kernelspec": {
   "display_name": "Python 3",
   "language": "python",
   "name": "python3"
  },
  "language_info": {
   "codemirror_mode": {
    "name": "ipython",
    "version": 3
   },
   "file_extension": ".py",
   "mimetype": "text/x-python",
   "name": "python",
   "nbconvert_exporter": "python",
   "pygments_lexer": "ipython3",
   "version": "3.7.6"
  }
 },
 "nbformat": 4,
 "nbformat_minor": 2
}
