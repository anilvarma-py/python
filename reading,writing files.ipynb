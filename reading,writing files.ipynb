{
 "cells": [
  {
   "cell_type": "code",
   "execution_count": 2,
   "metadata": {},
   "outputs": [
    {
     "name": "stdout",
     "output_type": "stream",
     "text": [
      "my name is anil varma ,learning python\n"
     ]
    }
   ],
   "source": [
    "file=open(\"anil.txt\",\"r\")\n",
    "cont=file.read()\n",
    "print(cont)\n",
    "file.close()"
   ]
  },
  {
   "cell_type": "code",
   "execution_count": 29,
   "metadata": {},
   "outputs": [
    {
     "name": "stdout",
     "output_type": "stream",
     "text": [
      "anil varmaanil varmaanil varmaanil varmaanil varma\n",
      "10\n"
     ]
    }
   ],
   "source": [
    "file= open(\"anil.txt\",\"r+\")\n",
    "print(file.read())\n",
    "print(file.write(\"anil varma\"))\n",
    "file.close()"
   ]
  },
  {
   "cell_type": "markdown",
   "metadata": {},
   "source": [
    "# reading files:\n",
    "To read only certain amount of file ,you can provide a number as an argument to the read function.this determines how much file has to be read.\n",
    "you can make more calls to read on the same file object to read more of the file byte to byte.\n",
    "with no argument , read returns rest of the file.\n",
    "\n"
   ]
  },
  {
   "cell_type": "code",
   "execution_count": 67,
   "metadata": {},
   "outputs": [
    {
     "name": "stdout",
     "output_type": "stream",
     "text": [
      "anil varma  yehhh\n",
      "\n",
      "\n",
      "\n"
     ]
    }
   ],
   "source": [
    "file=open(\"anil.txt\",\"r\")\n",
    "print(file.read(88))\n",
    "print(file.read(8))\n",
    "print(file.read(7))\n",
    "print(file.read(6))\n",
    "file.close()"
   ]
  },
  {
   "cell_type": "code",
   "execution_count": 53,
   "metadata": {},
   "outputs": [
    {
     "name": "stdout",
     "output_type": "stream",
     "text": [
      "my name is anil\n"
     ]
    }
   ],
   "source": [
    "file=open(\"anil.txt\",\"r\")\n",
    "for e in range(1):\n",
    "    print(file.read(40))\n",
    "file.close()\n"
   ]
  },
  {
   "cell_type": "code",
   "execution_count": 56,
   "metadata": {},
   "outputs": [
    {
     "name": "stdout",
     "output_type": "stream",
     "text": [
      "15\n"
     ]
    },
    {
     "data": {
      "text/plain": [
       "<function TextIOWrapper.close()>"
      ]
     },
     "execution_count": 56,
     "metadata": {},
     "output_type": "execute_result"
    }
   ],
   "source": [
    "file=open(\"anil.txt\",\"r\")\n",
    "str=file.read()\n",
    "print(len(str))\n",
    "file.close\n"
   ]
  },
  {
   "cell_type": "markdown",
   "metadata": {},
   "source": [
    "# readlines method\n",
    "to retrive each line in the file ,you can use the readlines method to return a list in which each element in a line in a file.\n",
    "you can also use \"for\" loop to iterate through lines in the file."
   ]
  },
  {
   "cell_type": "code",
   "execution_count": 65,
   "metadata": {},
   "outputs": [
    {
     "name": "stdout",
     "output_type": "stream",
     "text": [
      "['my name is anil\\n', 'yehhhhhhhhh\\n', 'nehhhhhhhhh\\n']\n"
     ]
    }
   ],
   "source": [
    "file=open(\"anil.txt\",\"r\")\n",
    "print(file.readlines())\n",
    "file.close()"
   ]
  },
  {
   "cell_type": "code",
   "execution_count": 64,
   "metadata": {},
   "outputs": [
    {
     "name": "stdout",
     "output_type": "stream",
     "text": [
      "my name is anil\n",
      "\n",
      "yehhhhhhhhh\n",
      "\n",
      "nehhhhhhhhh\n",
      "\n"
     ]
    }
   ],
   "source": [
    "file=open(\"anil.txt\",\"r\")\n",
    "for line in  file :\n",
    "    print(line)\n",
    "file.close()"
   ]
  },
  {
   "cell_type": "code",
   "execution_count": null,
   "metadata": {},
   "outputs": [],
   "source": []
  }
 ],
 "metadata": {
  "kernelspec": {
   "display_name": "Python 3",
   "language": "python",
   "name": "python3"
  },
  "language_info": {
   "codemirror_mode": {
    "name": "ipython",
    "version": 3
   },
   "file_extension": ".py",
   "mimetype": "text/x-python",
   "name": "python",
   "nbconvert_exporter": "python",
   "pygments_lexer": "ipython3",
   "version": "3.7.4"
  }
 },
 "nbformat": 4,
 "nbformat_minor": 2
}
