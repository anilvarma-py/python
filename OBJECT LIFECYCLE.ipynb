{
 "cells": [
  {
   "cell_type": "markdown",
   "metadata": {},
   "source": [
    "## LIFECYCLE OF AN OBJECT IS MADE UP OF ITS CREATION,MANUPLATION AND DISTRUCTION\n",
    "\n",
    "THE FIRST STAGE OF LIFECYCLE OF AN OBJECT IS \"THE DEFINATION OF THE CLASS TO WHICH IT BELONGS\".\n",
    "THE NEXT STAGE IS INSTALLATION OF AN INSTANCE ,WHEN __init__ IS CALLED.MEMORY IS ALLOCATED TO STORE THE INSTANCE,JUST BEFORE IT OCCURS THE NEW METHOD OF CLASS IS CALLED , THIS IS \n",
    "USUALLY OVERRIDDEN ONLY IN SPECIAL CASES\n",
    "AFTER THIS HAS HAPPENED THE OBJECT IS READY TO USE"
   ]
  },
  {
   "cell_type": "markdown",
   "metadata": {},
   "source": [
    "WHEN AN OBJECT IS \"DISTROYED\" ,THE MEMORY ALLOCATED TO IT IS FREED UP , AND CAN BE USED FOR OTHER PURPOSES .\n",
    "DESTRUCTION OF AN OBJECT OCCURS WHEN ITS REFERENCE COUNT REACHES ZERO, REFERENCE COUNT IS THE NUMBER OF VARIABLES AND \n",
    "OTHER ELEMENTS THAT REFER TO AN OBJECT\n",
    "IN SOME SITUATIONS ,TWO (OR MORE )OBJECTS CAN  BE REFERED TO EACH OTHER ONLY,AND THEREFORE CAN BE DELETED AS WELL.\n",
    "THE \"del\" STATEMENT REDUCES THE REFERENCE COUNT OF AN OBJECT BY ONE AND OFTEN LEADS TO ITS DELETION.\n",
    "THE MAGIC METHOD FOR del STATEMENT IS   __del__   \n",
    "THE PROCESS OF DELETING OBJECTS WHEN THEY NOLONGER NEEDED IS CALLED GARBAGE COLLECTION.\n",
    "IN SUMMARY, AN OBJECTS REFERENCE COUNT INCREASES WHEN ASSIGNED A NEW NAME OR PLACED IN A CONTAINER (LIST,TUPLE,DICTIONARY).\n",
    "THE OBJECT REFERENCE COUNT DECREASES WHEN DELETED WITH DEL ,THE REFERENCE COUNT GOES OUT OF SCOPE ,WHEN AN OBJECTS REFERENCE COUNT REACHES ZERO,PYTHON AUTOMATICALLY DELETES IT"
   ]
  },
  {
   "cell_type": "code",
   "execution_count": 4,
   "metadata": {},
   "outputs": [],
   "source": [
    "a=42 #create object <42>\n",
    "b=42 #incresinng reference count of <42>\n",
    "c=[a] #increasing reference count of <42>\n",
    "del a #decreasing ref count of <42>\n",
    "b=100 #we are reassigning value ,decrese ref count of <42>\n",
    "c[0]=-1 #reasssigned value,dec reference count of<42>"
   ]
  },
  {
   "cell_type": "code",
   "execution_count": null,
   "metadata": {},
   "outputs": [],
   "source": []
  }
 ],
 "metadata": {
  "kernelspec": {
   "display_name": "Python 3",
   "language": "python",
   "name": "python3"
  },
  "language_info": {
   "codemirror_mode": {
    "name": "ipython",
    "version": 3
   },
   "file_extension": ".py",
   "mimetype": "text/x-python",
   "name": "python",
   "nbconvert_exporter": "python",
   "pygments_lexer": "ipython3",
   "version": "3.7.4"
  }
 },
 "nbformat": 4,
 "nbformat_minor": 2
}
