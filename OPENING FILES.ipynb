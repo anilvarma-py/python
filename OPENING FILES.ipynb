{
 "cells": [
  {
   "cell_type": "markdown",
   "metadata": {},
   "source": [
    "# opening files\n",
    "you can use python to read and write the contents of the files.\n",
    "Text files are easiest to manpulate,Before a file can be edited,it must be opened ,using the open function.\n"
   ]
  },
  {
   "cell_type": "code",
   "execution_count": 22,
   "metadata": {},
   "outputs": [],
   "source": [
    "my_file=open( \"anil.txt\")\n",
    "my_file.close()"
   ]
  },
  {
   "cell_type": "code",
   "execution_count": 16,
   "metadata": {
    "scrolled": true
   },
   "outputs": [
    {
     "ename": "SyntaxError",
     "evalue": "invalid syntax (<ipython-input-16-3c49904553e4>, line 2)",
     "output_type": "error",
     "traceback": [
      "\u001b[1;36m  File \u001b[1;32m\"<ipython-input-16-3c49904553e4>\"\u001b[1;36m, line \u001b[1;32m2\u001b[0m\n\u001b[1;33m    YOU CAN SPECIFY THE MODE USED TO OPEN THE FILE BY APPLYING THE SECOND ARGUMENT TO THE OPEN FUNCTION .\u001b[0m\n\u001b[1;37m          ^\u001b[0m\n\u001b[1;31mSyntaxError\u001b[0m\u001b[1;31m:\u001b[0m invalid syntax\n"
     ]
    }
   ],
   "source": [
    "## OPENING FILES IN DIFFERENT MODE:\n",
    "YOU CAN SPECIFY THE MODE USED TO OPEN THE FILE BY APPLYING THE SECOND ARGUMENT TO THE OPEN FUNCTION .\n",
    "---SENDING \"r\" MEANS OPENING IN DEFAULT MODE ,WHICH IS THE DEFAULT\n",
    "---SENDING \"a\" MEANS APPEND MODE ADDING NEW CONTENT AT THE END OF THE FILE.\n",
    "----SENDING \"w\" MEANS WRITE MODE,FOR REWRITING THE CONTENTS OF THE FILE\n",
    "----ADDING \"b\" TO THE MODE OPENS IT IN BINARY MODE,WHICH IS USED FOR NON TEXT FILES LIKE SOUNDS AND IMAGES."
   ]
  },
  {
   "cell_type": "code",
   "execution_count": null,
   "metadata": {},
   "outputs": [],
   "source": [
    "#WRITE MODE\n",
    "open (sample1.txt,\"w\")"
   ]
  },
  {
   "cell_type": "code",
   "execution_count": null,
   "metadata": {},
   "outputs": [],
   "source": []
  },
  {
   "cell_type": "markdown",
   "metadata": {},
   "source": [
    "# once file has been opened and used, it should be closed for that \"close\" function is used\n"
   ]
  },
  {
   "cell_type": "code",
   "execution_count": null,
   "metadata": {},
   "outputs": [],
   "source": [
    "file=open(\"filename.txt\",\"w\")\n",
    "#do stuff to the file\n",
    "file.close()"
   ]
  },
  {
   "cell_type": "code",
   "execution_count": null,
   "metadata": {},
   "outputs": [],
   "source": []
  },
  {
   "cell_type": "markdown",
   "metadata": {},
   "source": [
    "# READING FILES\n",
    "THE CONTENTS OF THE FILE THAT HAS OPENED IN THE TEXT CAN BE READ BY THE \"READ METHOD\"\n"
   ]
  },
  {
   "cell_type": "code",
   "execution_count": 25,
   "metadata": {},
   "outputs": [
    {
     "name": "stdout",
     "output_type": "stream",
     "text": [
      "\n"
     ]
    }
   ],
   "source": [
    "file=open(\"anil.txt\",\"r\")\n",
    "cont=file.read()\n",
    "print(cont)\n",
    "file.close()"
   ]
  },
  {
   "cell_type": "code",
   "execution_count": null,
   "metadata": {},
   "outputs": [],
   "source": []
  },
  {
   "cell_type": "code",
   "execution_count": null,
   "metadata": {},
   "outputs": [],
   "source": []
  }
 ],
 "metadata": {
  "kernelspec": {
   "display_name": "Python 3",
   "language": "python",
   "name": "python3"
  },
  "language_info": {
   "codemirror_mode": {
    "name": "ipython",
    "version": 3
   },
   "file_extension": ".py",
   "mimetype": "text/x-python",
   "name": "python",
   "nbconvert_exporter": "python",
   "pygments_lexer": "ipython3",
   "version": "3.7.4"
  }
 },
 "nbformat": 4,
 "nbformat_minor": 2
}
