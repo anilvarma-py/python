{
 "cells": [
  {
   "cell_type": "markdown",
   "metadata": {},
   "source": [
    "# INHERITANCE\n",
    "INHERITANCE PROVIDES A WAY TO SHARE FUNCTIONALITY BETWEEN CLASSES.\n",
    "IMAGINE SEVERAL CLASSES ,CAT,DOG,RABBIT AND SO ON.ALTHOGH THEY DIFFER IN SOME WAYS(ONLY DOG MAIGHT HAVE THE METHOD BARK,THEY ARE LIKELY TO BE SIMILAR IN OTHER WAYS (ALL HAVING THE ATTRIBUTES COLOR AND NAME)\n",
    "THIS SIMILARITY CAN BE EXPRESSED BY MAKING THEM ALL INHERIT FROM A SUPERCLASS ANIMAL ,WHICH CONTAINS A SHARED FUNCTIONALITY.\n",
    "TO INHERIT A CLASS FROM ANOTHER CLASS ,PUT THE SUPERCLASS NAME IN PARENTHESES AFTER THE CLASS NAME."
   ]
  },
  {
   "cell_type": "code",
   "execution_count": 4,
   "metadata": {},
   "outputs": [
    {
     "name": "stdout",
     "output_type": "stream",
     "text": [
      "rocky\n",
      "woof!\n"
     ]
    }
   ],
   "source": [
    "class Animal:\n",
    "    def __init__(self,name,color):\n",
    "        self.name=name\n",
    "        self.colour=color\n",
    "class Dog(Animal) :\n",
    "    def bark(self):\n",
    "        print(\"woof!\")\n",
    "class cat(Animal):\n",
    "    def meaoo(self):\n",
    "        print(\"meooooooo\")\n",
    "obj=Dog(\"rocky\",\"black\")\n",
    "print(obj.name)\n",
    "obj.bark()"
   ]
  },
  {
   "cell_type": "markdown",
   "metadata": {},
   "source": [
    "## inheritance can also be indirect .one class can inherit from another,and that class can inherit from a third class.\n",
    "\n"
   ]
  },
  {
   "cell_type": "code",
   "execution_count": 21,
   "metadata": {},
   "outputs": [
    {
     "name": "stdout",
     "output_type": "stream",
     "text": [
      "A method\n",
      "another method\n",
      "c method\n"
     ]
    }
   ],
   "source": [
    "class A:\n",
    "    def method(self):\n",
    "        print(\"A method\")\n",
    "class B(A):\n",
    "    def another_method(self):\n",
    "        print(\"another method\")\n",
    "class C(B):\n",
    "    def third_method(self):\n",
    "        print(\"c method\")\n",
    "c=C()\n",
    "c.method()\n",
    "c.another_method()\n",
    "c.third_method()"
   ]
  },
  {
   "cell_type": "markdown",
   "metadata": {},
   "source": [
    "#### THE FUNCTION \"SUPER\" IS A USEFUL INHERITANCE -RELATED FUNCTION THAT REFERS TO A PARENT CLASS. IT CAN BE USED TO FIND THE METHOD WITH A CERTAIN NAME I AN OBJECTS SUPERCLASS."
   ]
  },
  {
   "cell_type": "code",
   "execution_count": 31,
   "metadata": {},
   "outputs": [
    {
     "name": "stdout",
     "output_type": "stream",
     "text": [
      "2\n",
      "1\n"
     ]
    }
   ],
   "source": [
    "class A:                           #A is a parent class\n",
    "    def spam(self):\n",
    "        print(1)\n",
    "class B(A):                        #B is a child class\n",
    "    def spam(self):\n",
    "        print(2)\n",
    "        super().spam()#when we use super method ,firstly child class will be printed and then parent class)\n",
    "B().spam()"
   ]
  },
  {
   "cell_type": "markdown",
   "metadata": {},
   "source": [
    "### PYTHON ALSO PROVIDES MAGIC METHODS FOR COMPARISIONS\n",
    "\n",
    "__it__ for<\n",
    "__le__ for<=\n",
    "__eq__ for ==\n",
    "__ne__ for !=\n",
    "__gt__ for >\n",
    "__ge__ for >=\n",
    "\n",
    "IF __ne__ IS NOT IMPLEMENTED ,IT RETURNS THE OPPOSITE OF__eq__\n",
    "THERE ARE NO OTHER RELATIONSHIPS BETWEEN OTHER OPERATORS."
   ]
  },
  {
   "cell_type": "code",
   "execution_count": 40,
   "metadata": {},
   "outputs": [
    {
     "ename": "SyntaxError",
     "evalue": "invalid syntax (<ipython-input-40-e5b44c9e8949>, line 9)",
     "output_type": "error",
     "traceback": [
      "\u001b[1;36m  File \u001b[1;32m\"<ipython-input-40-e5b44c9e8949>\"\u001b[1;36m, line \u001b[1;32m9\u001b[0m\n\u001b[1;33m    =\">\"+other.food_type[index:]\u001b[0m\n\u001b[1;37m    ^\u001b[0m\n\u001b[1;31mSyntaxError\u001b[0m\u001b[1;31m:\u001b[0m invalid syntax\n"
     ]
    }
   ],
   "source": [
    "class specialstring:\n",
    "    def __init__(self,food_type):\n",
    "        self.food_type=food_type\n",
    "        \n",
    "    def __gt__(self,other):\n",
    "        for index in range(len(other.food_type)+1):\n",
    "            result=other.food_type[:index]+\">\"+self.food_type\n",
    "            result=\">\"+other.food_type[index:]\n",
    "            print(result)\n",
    "food_1=specialstring(\"spam\")\n",
    "food_2=specialstring(\"eggs\")\n",
    "\"spam\"<\"eggs\""
   ]
  },
  {
   "cell_type": "code",
   "execution_count": 62,
   "metadata": {},
   "outputs": [
    {
     "ename": "NameError",
     "evalue": "name 'dog' is not defined",
     "output_type": "error",
     "traceback": [
      "\u001b[1;31m---------------------------------------------------------------------------\u001b[0m",
      "\u001b[1;31mNameError\u001b[0m                                 Traceback (most recent call last)",
      "\u001b[1;32m<ipython-input-62-008aa501cc88>\u001b[0m in \u001b[0;36m<module>\u001b[1;34m\u001b[0m\n\u001b[1;32m----> 1\u001b[1;33m \u001b[0ma\u001b[0m\u001b[1;33m=\u001b[0m\u001b[0mdog\u001b[0m\u001b[1;33m\u001b[0m\u001b[1;33m\u001b[0m\u001b[0m\n\u001b[0m\u001b[0;32m      2\u001b[0m \u001b[0mb\u001b[0m\u001b[1;33m=\u001b[0m\u001b[0ma\u001b[0m\u001b[1;33m*\u001b[0m\u001b[0mdog\u001b[0m\u001b[1;33m\u001b[0m\u001b[1;33m\u001b[0m\u001b[0m\n\u001b[0;32m      3\u001b[0m \u001b[0mc\u001b[0m\u001b[1;33m=\u001b[0m\u001b[0mb\u001b[0m\u001b[1;33m*\u001b[0m\u001b[0mdog\u001b[0m\u001b[1;33m\u001b[0m\u001b[1;33m\u001b[0m\u001b[0m\n\u001b[0;32m      4\u001b[0m \u001b[1;32mdel\u001b[0m \u001b[0ma\u001b[0m\u001b[1;33m\u001b[0m\u001b[1;33m\u001b[0m\u001b[0m\n\u001b[0;32m      5\u001b[0m \u001b[0mprint\u001b[0m\u001b[1;33m(\u001b[0m\u001b[0ma\u001b[0m\u001b[1;33m,\u001b[0m\u001b[0mb\u001b[0m\u001b[1;33m,\u001b[0m\u001b[0mc\u001b[0m\u001b[1;33m)\u001b[0m\u001b[1;33m\u001b[0m\u001b[1;33m\u001b[0m\u001b[0m\n",
      "\u001b[1;31mNameError\u001b[0m: name 'dog' is not defined"
     ]
    }
   ],
   "source": [
    "a=dog\n",
    "b=a*dog\n",
    "c=b*dog\n",
    "del a\n",
    "print(a,b,c)"
   ]
  },
  {
   "cell_type": "code",
   "execution_count": 53,
   "metadata": {},
   "outputs": [
    {
     "name": "stdout",
     "output_type": "stream",
     "text": [
      "42\n"
     ]
    }
   ],
   "source": [
    "b=a\n",
    "print(b)"
   ]
  },
  {
   "cell_type": "code",
   "execution_count": 54,
   "metadata": {
    "scrolled": true
   },
   "outputs": [
    {
     "name": "stdout",
     "output_type": "stream",
     "text": [
      "[42]\n"
     ]
    }
   ],
   "source": [
    "c=[a]\n",
    "print(c)"
   ]
  },
  {
   "cell_type": "code",
   "execution_count": 55,
   "metadata": {},
   "outputs": [],
   "source": [
    "del a"
   ]
  },
  {
   "cell_type": "code",
   "execution_count": 57,
   "metadata": {},
   "outputs": [
    {
     "name": "stdout",
     "output_type": "stream",
     "text": [
      "100\n"
     ]
    }
   ],
   "source": [
    "b=100\n",
    "print(b)"
   ]
  },
  {
   "cell_type": "code",
   "execution_count": 61,
   "metadata": {},
   "outputs": [
    {
     "name": "stdout",
     "output_type": "stream",
     "text": [
      "142\n"
     ]
    }
   ],
   "source": [
    "a=42\n",
    "b=a\n",
    "\n",
    "b+=100\n",
    "print(b)"
   ]
  },
  {
   "cell_type": "code",
   "execution_count": null,
   "metadata": {},
   "outputs": [],
   "source": []
  }
 ],
 "metadata": {
  "kernelspec": {
   "display_name": "Python 3",
   "language": "python",
   "name": "python3"
  },
  "language_info": {
   "codemirror_mode": {
    "name": "ipython",
    "version": 3
   },
   "file_extension": ".py",
   "mimetype": "text/x-python",
   "name": "python",
   "nbconvert_exporter": "python",
   "pygments_lexer": "ipython3",
   "version": "3.7.4"
  }
 },
 "nbformat": 4,
 "nbformat_minor": 2
}
