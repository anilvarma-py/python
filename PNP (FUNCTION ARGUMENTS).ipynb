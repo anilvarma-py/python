{
 "cells": [
  {
   "cell_type": "code",
   "execution_count": null,
   "metadata": {},
   "outputs": [],
   "source": [
    "PYTHON ALLOWS TO HAVE FUNCTION WITH VARING NUMER OF ARGUMENTS.\n",
    "USING ARGUMENTS AS A FUCTION PARAMETER ENABLES YOU TO PASS AN ARBITARY NUMBER OF ARGUMENTS TO THAT FUNCTION .\n",
    "THE ARGUMENTS ARE THEN ACCESABLE AS A TUPLE ARGUMENTS IN THE  BODY OF FUNCTION"
   ]
  },
  {
   "cell_type": "code",
   "execution_count": 5,
   "metadata": {},
   "outputs": [
    {
     "name": "stdout",
     "output_type": "stream",
     "text": [
      "1\n",
      "(2, 3, 4, 5)\n"
     ]
    }
   ],
   "source": [
    "def function(named_arg,*arg):\n",
    "    print(named_arg)\n",
    "    print(arg)\n",
    "function(1,2,3,4,5)"
   ]
  },
  {
   "cell_type": "markdown",
   "metadata": {},
   "source": [
    "# Default values\n",
    "NAMED PARAMETERS TO THE FUNCTION CAN BE MADE OPTIONAL BY GIVING THEM A DEFAULT VALUE.\n",
    "THESE MUST COME AFTER NAMED PARAMETERS WITHOUT A DEFAULT VALUE."
   ]
  },
  {
   "cell_type": "code",
   "execution_count": 2,
   "metadata": {},
   "outputs": [
    {
     "name": "stdout",
     "output_type": "stream",
     "text": [
      "spam\n",
      "egg\n"
     ]
    }
   ],
   "source": [
    "def function(x,y,food=\"spam\"):\n",
    "    print(food)\n",
    "function(1,2)\n",
    "function(3,4,\"egg\")"
   ]
  },
  {
   "cell_type": "code",
   "execution_count": null,
   "metadata": {},
   "outputs": [],
   "source": [
    "---kwargs(standing for keyword arguments) allows you to handle named arguments that you hav'nt defined in advance.\n",
    "the keyword arguments returns a dictionary in which keys are the argument names and the values are the argument values"
   ]
  },
  {
   "cell_type": "code",
   "execution_count": 6,
   "metadata": {},
   "outputs": [
    {
     "name": "stdout",
     "output_type": "stream",
     "text": [
      "{'a': 5, 'b': 9}\n"
     ]
    }
   ],
   "source": [
    "def function(x,y=2,*args,**kwargs):\n",
    "    print(kwargs)\n",
    "function(2,3,4,5,6,7,9,0,a=5,b=9)"
   ]
  },
  {
   "cell_type": "markdown",
   "metadata": {},
   "source": [
    "# Tuple unpacking\n",
    "TUPLE UNPACKING ALLOWS YOU TO ASSIGN EACH ITEM IN THE ITARABLE (OFTEN A TUPLE) TO A VARIABLE"
   ]
  },
  {
   "cell_type": "code",
   "execution_count": 7,
   "metadata": {},
   "outputs": [
    {
     "name": "stdout",
     "output_type": "stream",
     "text": [
      "1\n",
      "2\n",
      "3\n"
     ]
    }
   ],
   "source": [
    "numbers=(1,2,3)\n",
    "a,b,c=numbers\n",
    "print(a)\n",
    "print(b)\n",
    "print(c)"
   ]
  },
  {
   "cell_type": "raw",
   "metadata": {},
   "source": [
    "---THE VARIABLE THAT SPECIFIED WITH ASTERISK TAKES ALL THE VALUES FROM THE ITERABLE THAT ARE LEFT OVER FROM OTHER VARIABLES."
   ]
  },
  {
   "cell_type": "code",
   "execution_count": 8,
   "metadata": {},
   "outputs": [
    {
     "name": "stdout",
     "output_type": "stream",
     "text": [
      "1\n",
      "2\n",
      "[3, 4, 5, 6, 7, 8, 98]\n"
     ]
    }
   ],
   "source": [
    "a,b,*c=[1,2,3,4,5,6,7,8,98]\n",
    "print(a)\n",
    "print(b)\n",
    "print(c)"
   ]
  },
  {
   "cell_type": "markdown",
   "metadata": {},
   "source": [
    "# Ternary operator\n",
    "CONDITIONAL EXPRESSIONS PROVIDE THE FUNCTIONALITY OF IF STATEMENTS WHILE USING LESS CODE .THEY SHOULD'NT BE OVER USED ,AS THEY CAN EASILY REDUCE THE READABILITY,BUT THEY ARE OFTEN USEFUL WHEN ASSIGNING VARIABLES .\n",
    "CONDITIONAL EXPRESSIONS ARE ALSO KNOWN AS APPLICATIONS OF THE TERNARY OPERATOR."
   ]
  },
  {
   "cell_type": "code",
   "execution_count": 9,
   "metadata": {},
   "outputs": [
    {
     "name": "stdout",
     "output_type": "stream",
     "text": [
      "2\n"
     ]
    }
   ],
   "source": [
    "a=3\n",
    "b=2 if a<=5 else 22\n",
    "print(b)"
   ]
  },
  {
   "cell_type": "markdown",
   "metadata": {},
   "source": [
    "# MORE ELSE STATEMENTS\n",
    "THE ELSE STATEMENT IS MOST COMMONLY USED WITH IF STATEMENT ,BUT IT CAN ALSO FOLLOW A FOR OR WHILE LOOP,WHICH GIVES IT A DIFFERENT MEANING\n",
    "WITH THE FOR OR WHILE LOOP , THE CODE WITHIN IS CALLED IF THE LOOP FINESHES NORMALLY(WHEN A BREAK STATEMENT DOES'NT CAUSE AN EXIT FROM THE GROUP"
   ]
  },
  {
   "cell_type": "code",
   "execution_count": 10,
   "metadata": {},
   "outputs": [
    {
     "name": "stdout",
     "output_type": "stream",
     "text": [
      "unbroken 1\n",
      "unbroken 1\n",
      "unbroken 1\n",
      "unbroken 1\n",
      "unbroken 1\n",
      "unbroken 1\n",
      "unbroken 1\n",
      "unbroken 1\n",
      "unbroken 1\n",
      "unbroken 1\n",
      "r\n",
      "r\n",
      "r\n",
      "r\n",
      "r\n"
     ]
    }
   ],
   "source": [
    "for i in range(10):\n",
    "    if i==99:\n",
    "        break\n",
    "    else:\n",
    "        print(\"unbroken 1\")\n",
    "for i in range(10):\n",
    "    if i==5:\n",
    "        break\n",
    "    else:\n",
    "        print(\"r\")"
   ]
  },
  {
   "cell_type": "markdown",
   "metadata": {},
   "source": [
    "---THE ELSE STATEMENTS CAN ALSO BE USED WITH TRY /EXCEPT STATEMENTS\n",
    "THE CODE WITHIN IS ONLY EXECUTED ,IF NO ERROR OCCURS IN THE TRY STATEMENT."
   ]
  },
  {
   "cell_type": "code",
   "execution_count": 12,
   "metadata": {},
   "outputs": [
    {
     "name": "stdout",
     "output_type": "stream",
     "text": [
      "1\n",
      "3\n",
      "2\n"
     ]
    }
   ],
   "source": [
    "try :\n",
    "    print(1)\n",
    "except ZeroDivisionError:\n",
    "    print(2)\n",
    "else:\n",
    "    print(3)\n",
    "try:\n",
    "    print(1/0)\n",
    "except ZeroDivisionError:\n",
    "    print(2)\n",
    "else:\n",
    "    print(3)"
   ]
  },
  {
   "cell_type": "markdown",
   "metadata": {},
   "source": [
    "#  __MAIN__\n",
    "MOST PYTHON CODE IS EITHER MODULE TO BE IMPORTED ,OR A SCRIPT THAT DOES SOMETHING,HOWEVER ITS USEFUL TO MAKE A FILE THAT CAN BE BOTH IMPORTED AS A MODULE AND RUN AS A SCRIPT\n",
    "TO DO THIS ,PLACE THE SCRIPT CODE INSIDE if__name__==\"__main__\""
   ]
  },
  {
   "cell_type": "code",
   "execution_count": null,
   "metadata": {},
   "outputs": [],
   "source": [
    " def function():\n",
    "    print(\"this is a module function\")\n",
    "if __na\n",
    "me__==\"__main__\":        #this ensures that the module wont run if the file is imported\n",
    "        print(\"this is script\")"
   ]
  },
  {
   "cell_type": "markdown",
   "metadata": {},
   "source": [
    "#  major 3rd party libraries\n",
    "THE PYTHON STANDARD LIBRARY ALONE CONTAINS EXTENSIVE FUNCTIONALITY\n",
    "HOWEVER SOME TASKS REQUIRE THE USE OF THIRD PARTY LIBRARIES,SOME MAJOR THIRD PARTY LIBRARIES ARE \n",
    "--DJANGO:THE MOST FREQUENTLY USED WEB FRAMEWORK WRITTEN IN PYTHON,DJANGO POWERS WEBSITES THAT INCLUDE INSTAGRAM AND DISQUS.IT HAS MANY USEFUL FEATURES AND WHATEVER FEATURES THEY LACK ARE COVERED BY EXTENSION PACKAGES.CHERRYPY AND FLASKS ARE ALSO POPULAR WEB FRAMEWORKS."
   ]
  },
  {
   "cell_type": "code",
   "execution_count": null,
   "metadata": {},
   "outputs": [],
   "source": [
    "FOR SCRAPPING DATA FROM WEBSITES "
   ]
  }
 ],
 "metadata": {
  "kernelspec": {
   "display_name": "Python 3",
   "language": "python",
   "name": "python3"
  },
  "language_info": {
   "codemirror_mode": {
    "name": "ipython",
    "version": 3
   },
   "file_extension": ".py",
   "mimetype": "text/x-python",
   "name": "python",
   "nbconvert_exporter": "python",
   "pygments_lexer": "ipython3",
   "version": "3.7.4"
  }
 },
 "nbformat": 4,
 "nbformat_minor": 2
}
