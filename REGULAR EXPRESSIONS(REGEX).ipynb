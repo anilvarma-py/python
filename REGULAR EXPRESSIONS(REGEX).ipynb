{
 "cells": [
  {
   "cell_type": "markdown",
   "metadata": {},
   "source": [
    "# REGULAR EXPRESSIONS IN PYTHON CAN BE ACCESSED BY USING A RE-MODULE WHICH IS THE PART OF THE STANDARD LIBRARY\n",
    "AFTER YOU HAVE DEFINED REGULAR EXPRESSIONS ,THE RE-MATCH CAN BE USED TO DETERMINE WHETHER IT MATCHES AT THE BEGGINING OF THE STRING\n",
    ",IF IT DOES MATHCH REPRESENTS THE OBJECT REPRESENTING THE MATCH,IF NOT IT RETURNS NONE.\n",
    "\n",
    "TO AVOID ANY CONFUSION WHILE WORKING WITH REGULAR EXPRESSIONS WE WOULD USE RAW STRINGS AS \"r\"EXPRESSIONS\n",
    "RAW STRINGS DONT ESCAPE ANYTHING WHICH MAKES USE OF REGULAR EXPRESSIONS EASIER."
   ]
  },
  {
   "cell_type": "code",
   "execution_count": 7,
   "metadata": {},
   "outputs": [
    {
     "name": "stdout",
     "output_type": "stream",
     "text": [
      "match\n"
     ]
    }
   ],
   "source": [
    "import re\n",
    "pattern =r\"spam\"\n",
    "if re.match(pattern,\"spam\"):\n",
    "        print(\"match\")\n",
    "else:\n",
    "    print(\"no ,match\")"
   ]
  },
  {
   "cell_type": "code",
   "execution_count": null,
   "metadata": {},
   "outputs": [],
   "source": [
    "OTHER FUNCTIONS TO MATCH PATTERNS ARE re.search AND re.findall\n",
    "THE FUNCTION re.search FINDS A MATCH OF THE PATTERN ANYWHERE IN THE STRING.\n",
    "THE FUNCTION re.findall returns a list of all substrings that match a pattern.\n"
   ]
  },
  {
   "cell_type": "code",
   "execution_count": 11,
   "metadata": {},
   "outputs": [
    {
     "name": "stdout",
     "output_type": "stream",
     "text": [
      "unmatch\n",
      "['spam', 'spam', 'spam']\n"
     ]
    }
   ],
   "source": [
    "import re\n",
    "pattern = r\"spam\"\n",
    "if re.match(pattern,\"eggseggseggs\"):\n",
    "    print(\"match\")\n",
    "else:\n",
    "    print(\"unmatch\")\n",
    "print(re.findall(pattern,\"eggspamsausagespamspam\"))"
   ]
  },
  {
   "cell_type": "code",
   "execution_count": null,
   "metadata": {},
   "outputs": [],
   "source": [
    "THE REGEX SEARCH RETURNS AN OBJECT WITH SEVERAL METHODS THAT GIVES DETAILS ABOUT IT.\n",
    "THESE METHOD INCLUDE GROUP WHICH RETURNS THE STRING MATCHED,\"start\" AND \"end \" WHICH RESULTS THE START AND ENDING \n",
    "POSITION OF THE FIRST MATCH ,AND \"span \"WHICH RETURNS THE START AND ENDING POSTION OF FIRST MATCH IN A TUPLE."
   ]
  },
  {
   "cell_type": "code",
   "execution_count": 12,
   "metadata": {},
   "outputs": [
    {
     "name": "stdout",
     "output_type": "stream",
     "text": [
      "pam\n",
      "4\n",
      "7\n",
      "(4, 7)\n"
     ]
    }
   ],
   "source": [
    "import  re\n",
    "pattern =r\"pam\"\n",
    "match =re.search(pattern,\"eggspamsausage\")\n",
    "if match:\n",
    "    print(match.group())\n",
    "    print(match.start())\n",
    "    print(match.end())\n",
    "    print(match.span())"
   ]
  },
  {
   "cell_type": "code",
   "execution_count": null,
   "metadata": {},
   "outputs": [],
   "source": [
    "ONE OF THE MOST IMPORTANT REGEX METHOD IS \"sub\"\n"
   ]
  },
  {
   "cell_type": "code",
   "execution_count": 15,
   "metadata": {},
   "outputs": [
    {
     "name": "stdout",
     "output_type": "stream",
     "text": [
      "my name is anil,hi anil\n"
     ]
    }
   ],
   "source": [
    "import re\n",
    "str=\"my name is raghu,hi raghu\"\n",
    "pattern=r\"raghu\"\n",
    "newstr=re.sub(pattern,\"anil\",str)\n",
    "print(newstr)"
   ]
  },
  {
   "cell_type": "markdown",
   "metadata": {},
   "source": [
    "# METACHARECTERS\n",
    "METACHARECTERS ARE WHAT MAKE REGULAR EXPRESSIONS MORE POWERFUL THAN NORMAL STRINGS METHODS\n",
    "\n",
    "METACHARECTERS ALLOW YOU TO CREATE REGULAR EXPRESSIONS TO REPRESENT CONCEPTS LIKE \"ONE OR MORE REPETITIONS OF A VOWEL\"\n",
    "\n",
    "THE EXISTENCE OF METACHARECTERS POSES A PROBLEM IF YOU WANT TO CREATE A REGULAR EXPRESSION THAT MATCHES A LITERAL METHACHARECTER"
   ]
  },
  {
   "cell_type": "code",
   "execution_count": null,
   "metadata": {},
   "outputs": [],
   "source": [
    "---THE FIRST METACHARECTER WE WILL LOOOK AT IS .(DOT).THIS MATCHES ANY CHARECTER OTHER THAN A NEW LINE"
   ]
  },
  {
   "cell_type": "code",
   "execution_count": 22,
   "metadata": {},
   "outputs": [
    {
     "name": "stdout",
     "output_type": "stream",
     "text": [
      "match 1\n",
      "match 2\n"
     ]
    }
   ],
   "source": [
    "import re\n",
    "pattern = r\"gr.y\"\n",
    "if re.match(pattern,\"grey\"):\n",
    "    print(\"match 1\")\n",
    "if re.match(pattern,\"gray\"):\n",
    "    print(\"match 2\")"
   ]
  },
  {
   "cell_type": "code",
   "execution_count": null,
   "metadata": {},
   "outputs": [],
   "source": [
    "---THE NEXT TWO METACHARECTERS ARE ^ AND $.\n",
    "THESE MATCH THE START AND END OF THE STRING RESPECTIVELY.\n"
   ]
  },
  {
   "cell_type": "code",
   "execution_count": 30,
   "metadata": {},
   "outputs": [
    {
     "name": "stdout",
     "output_type": "stream",
     "text": [
      "match 1\n",
      "match 2\n"
     ]
    }
   ],
   "source": [
    "import re\n",
    "pattern=r\"^gr.y$\"\n",
    "if re.match(pattern,\"gray\"):\n",
    "    print(\"match 1\")\n",
    "if re.match(pattern,\"grey\"):\n",
    "    print(\"match 2\")"
   ]
  },
  {
   "cell_type": "markdown",
   "metadata": {},
   "source": [
    "# charecter classes\n",
    "charecter classes provide A WAY TO MATCH ONLY SINGLE SET  OF CHARECTER"
   ]
  },
  {
   "cell_type": "code",
   "execution_count": 31,
   "metadata": {},
   "outputs": [
    {
     "name": "stdout",
     "output_type": "stream",
     "text": [
      "match 1\n",
      "match 2\n"
     ]
    }
   ],
   "source": [
    "import re\n",
    "pattern=r\"[aeiou]\"\n",
    "if re.search(pattern,\"grey\"):\n",
    "    print(\"match 1\")\n",
    "if re.search(pattern,\"eeeeeeeeeeeeeeeeee\"):\n",
    "    print(\"match 2\")"
   ]
  },
  {
   "cell_type": "code",
   "execution_count": null,
   "metadata": {},
   "outputs": [],
   "source": [
    "---CHARECTER CLASSES CAN ALSO MATCH THE RANGE OF CHARECTERS \n",
    "THE CLASSES [a-z] MATCHES ANY LOWER CASEALPHABET CHARECTER\n",
    "THE CLASS [A-Z] MATCHES ANY UPPER CASE ALPHABET NUMBER\n",
    "THE CLASS [0-9] MATCHES ANY DIGIT\n",
    "THE CLASS [A-Za-z0-9] MATCHS ALL ALPHABETS AND DIGITS"
   ]
  },
  {
   "cell_type": "code",
   "execution_count": 40,
   "metadata": {},
   "outputs": [
    {
     "name": "stdout",
     "output_type": "stream",
     "text": [
      "match 1\n",
      "match 2\n"
     ]
    }
   ],
   "source": [
    "import re\n",
    "pattern =r\"[a-z][0-9]\"\n",
    "if re.search(pattern,\"assssssss99\"):\n",
    "    print(\"match 1\")\n",
    "if re.search(pattern,\"Ilpsa0\"):\n",
    "    print(\"match 2\")"
   ]
  },
  {
   "cell_type": "code",
   "execution_count": null,
   "metadata": {},
   "outputs": [],
   "source": [
    "---PLACE ^ AT THE START OF A CHARECTER CLASS TO INVERT IT\n",
    "THIS CAUSES IT TO MATCH ANY CHARECTER OTHER THAN THE ONES INCLUDED\n",
    "OTHER METACHARECTERS $ HAS NO MEANING WITHIN THE CLASS.\n",
    "THE METACHATRECTER ^ HAS NO MEANING WHEN ITS USED WITHIN THE CLASS."
   ]
  },
  {
   "cell_type": "code",
   "execution_count": 45,
   "metadata": {},
   "outputs": [
    {
     "name": "stdout",
     "output_type": "stream",
     "text": [
      "match 2\n"
     ]
    }
   ],
   "source": [
    "import re\n",
    "pattern=r\"[^ a-z]\"\n",
    "if re.search(pattern,\"this is anil\"):\n",
    "    print(\"match 1\")\n",
    "if re.search(pattern,\"THIS IS ANIL3\"):\n",
    "    print(\"match 2\")"
   ]
  },
  {
   "cell_type": "markdown",
   "metadata": {},
   "source": [
    "--some more meta charecters are *,+,? , {} these specify number of repetitions as opposed to zero or more repetitions"
   ]
  },
  {
   "cell_type": "code",
   "execution_count": 48,
   "metadata": {},
   "outputs": [
    {
     "name": "stdout",
     "output_type": "stream",
     "text": [
      "match 1\n",
      "match 2\n"
     ]
    }
   ],
   "source": [
    "import re\n",
    "pattern = r\"egg(spam)*\"\n",
    "if re.match(pattern,\"egg\"):\n",
    "    print(\"match 1\")\n",
    "if re.match(pattern,\"eggspamspamsegg\"):\n",
    "    print(\"match 2\")\n",
    "if re.match(pattern,\"spam\"):\n",
    "    print(\"match 3\")"
   ]
  },
  {
   "cell_type": "code",
   "execution_count": null,
   "metadata": {},
   "outputs": [],
   "source": [
    "---THE METACHARECTER + IS VERY SIMILAR TO * ,EXCEPT IT MEANS ONE OR MORE REPETITIONS "
   ]
  },
  {
   "cell_type": "code",
   "execution_count": 49,
   "metadata": {},
   "outputs": [
    {
     "name": "stdout",
     "output_type": "stream",
     "text": [
      "match 1\n",
      "match 2\n"
     ]
    }
   ],
   "source": [
    "import re\n",
    "pattern=r\"g+\"\n",
    "if re.search(pattern,\"gggggggggggggg\"):\n",
    "    print(\"match 1\")\n",
    "if re.search(pattern,\"g\"):\n",
    "    print(\"match 2\")\n",
    "if re.search(pattern,\"e\"):\n",
    "    print(\"match 3\")"
   ]
  },
  {
   "cell_type": "code",
   "execution_count": null,
   "metadata": {},
   "outputs": [],
   "source": [
    "---THE METACHARECTER ? MEANS ZERO OR ONE REPETITIONS"
   ]
  },
  {
   "cell_type": "code",
   "execution_count": 50,
   "metadata": {},
   "outputs": [
    {
     "name": "stdout",
     "output_type": "stream",
     "text": [
      "match 1\n",
      "match 2\n"
     ]
    }
   ],
   "source": [
    "import re\n",
    "pattern = r\"ice(-)?cream\"\n",
    "if re.search(pattern,\"icecream\"):\n",
    "    print(\"match 1\")\n",
    "if re.search(pattern,\"ice-cream\"):\n",
    "    print(\"match 2\")"
   ]
  },
  {
   "cell_type": "code",
   "execution_count": null,
   "metadata": {},
   "outputs": [],
   "source": [
    "---THE CURLEY BRACES CAN BE USED TO REPRESENT THE NUMBER OF REPETIONS BETWEEN TWO NUMBERS\n",
    "THE regex{x,y} MEANS \"BETWEEN X AND Y REPETITION OF SOMETHIG\"\n",
    "IF THE FIRST NUMBER IS MISSING IT IS TAKEN AS ZERO AND IF SECOND NUMBER IS MISSING IT IS TAKEN AS INFINITY."
   ]
  },
  {
   "cell_type": "code",
   "execution_count": 54,
   "metadata": {},
   "outputs": [
    {
     "name": "stdout",
     "output_type": "stream",
     "text": [
      "match 1\n",
      "match 2\n"
     ]
    }
   ],
   "source": [
    "import re\n",
    "pattern = r\"4{2,4}$\"\n",
    "if re.search(pattern,\"444\"):\n",
    "    print(\"match 1\")\n",
    "if re.search(pattern,\"4444\"):\n",
    "    print(\"match 2\")\n",
    "if re.search(pattern,\"99\"):\n",
    "    print(\"match 3\")"
   ]
  },
  {
   "cell_type": "markdown",
   "metadata": {},
   "source": [
    "# GROUPS\n",
    "A GROUP CAN BE CREATED BY SURROUNDING PART OF A REGEX  WITH  PARENTHESES.\n",
    "THE GROUP CAN BE GIVEN AS A ARGUMENT TO METACHARECTERS SUCH AS * AND ?"
   ]
  },
  {
   "cell_type": "code",
   "execution_count": 55,
   "metadata": {},
   "outputs": [
    {
     "name": "stdout",
     "output_type": "stream",
     "text": [
      "match 1\n",
      "match 2\n"
     ]
    }
   ],
   "source": [
    "import re\n",
    "pattern = r\"egg(spam)*\"\n",
    "if re.match(pattern,\"egg\"):\n",
    "    print(\"match 1\")\n",
    "if re.match(pattern,\"eggspamspamsegg\"):\n",
    "    print(\"match 2\")\n",
    "if re.match(pattern,\"spam\"):\n",
    "    print(\"match 3\")"
   ]
  },
  {
   "cell_type": "code",
   "execution_count": null,
   "metadata": {},
   "outputs": [],
   "source": [
    "---THE CONTENT OF THE GROUP IN A MATCH CAN BE ACCESSED BY USING A GROUP FUCTION.\n",
    "A CALL OF group(0) or group() RETURNS THE WHOLE MATCH\n",
    "A CALL OF group(n) WHERE n IS GREATER THAN ZERO RETURNS THE NTH GROUP FROM LEFT.\n",
    "THE METHOD groups() RETURNS ALL GROUPS FROM 1."
   ]
  },
  {
   "cell_type": "code",
   "execution_count": 69,
   "metadata": {},
   "outputs": [
    {
     "name": "stdout",
     "output_type": "stream",
     "text": [
      "abcdefghi\n",
      "abcdefghi\n",
      "bc\n",
      "de\n",
      "fgh\n",
      "g\n"
     ]
    }
   ],
   "source": [
    "import re\n",
    "pattern = r\"a(bc)(de)(f(g)h)i\"\n",
    "match=re.match(pattern,\"abcdefghi\")\n",
    "if match:\n",
    "    print(match.group())\n",
    "    print(match.group(0))\n",
    "    print(match.group(1))\n",
    "    print(match.group(2))\n",
    "    print(match.group(3))\n",
    "    print(match.group(4))\n",
    "    "
   ]
  },
  {
   "cell_type": "markdown",
   "metadata": {},
   "source": [
    "# ---THERE ARE THREE KINDS OF SPECIAL GROUPS \n",
    "TWO USEFUL GROUPS ARE NAMED GROUPS AND NON CAPTURING GROUPS .\n",
    "NAMED GROUPS HAVE THE FORMAT (?P<NAME>...)\n",
    "WHERE NAME IS THE NAME OF THE GROUP AND ... IS THE CONTANT\n",
    "THEY BEHAVE EXACTLY AS THE NORMAL GROUPS EXCEPT THEY CALLED WITH THERE NAMES AND NUMBERS.\n",
    "\n",
    "NON-CAPTUING  GROUPS HAVE THE FORMAT (?:...)\n",
    "THEY CAN'T BE ACCESESABLE BY THE GROUP METHOD SO THEY CAN BE ADDED WITHOUT BREAKING THE NUMBER."
   ]
  },
  {
   "cell_type": "code",
   "execution_count": 76,
   "metadata": {},
   "outputs": [
    {
     "name": "stdout",
     "output_type": "stream",
     "text": [
      "abcggdef\n",
      "abc\n",
      "def\n"
     ]
    }
   ],
   "source": [
    "import re\n",
    "pattern = r\"(?P<anil>abc)(?:gg)(def)\"\n",
    "match=re.match(pattern,\"abcggdef\")\n",
    "if match:\n",
    "    print(match.group())\n",
    "    print(match.group(1))\n",
    "    print(match.group(2))"
   ]
  },
  {
   "cell_type": "code",
   "execution_count": null,
   "metadata": {},
   "outputs": [],
   "source": [
    "---ANOTHER IMPORTANT METACHARECTER IS | . THIS MEANS \"OR\" ,SO RED|BLUE MATCHES EITHER RED OR BLUE.\n"
   ]
  },
  {
   "cell_type": "code",
   "execution_count": 81,
   "metadata": {},
   "outputs": [
    {
     "name": "stdout",
     "output_type": "stream",
     "text": [
      "match1\n",
      "match 2\n"
     ]
    }
   ],
   "source": [
    "import re\n",
    "pattern = r\"gr(a|e)y\"\n",
    "match1=re.match(pattern,\"gray\")\n",
    "if match1:\n",
    "    print(\"match1\")\n",
    "match2=re.match(pattern,\"grey\")\n",
    "if match2:\n",
    "    print(\"match 2\")"
   ]
  },
  {
   "cell_type": "markdown",
   "metadata": {},
   "source": [
    "# SPECIAL SEQUENCES\n",
    "THERE ARE VARIOUS  SPECIAL SEQUENCES YOU CAN USE IN REGULAR EXPRESSIONS .THEY ARE WRITTEN AS BLACKSLASH FOLLOWED BY ANOTHER CHARECTER .\n",
    "    ONE USEFUL SPECIAL SEQUENCE IS A BLACKSLASH AND A NUMBER BETWEEN 1 AND 99 e.g \\1 OR \\17 THIS MATCES THE GROUP OF THAT NUMBER ."
   ]
  },
  {
   "cell_type": "code",
   "execution_count": 86,
   "metadata": {},
   "outputs": [
    {
     "name": "stdout",
     "output_type": "stream",
     "text": [
      "match \n"
     ]
    }
   ],
   "source": [
    "import re\n",
    "pattern = r\"(.+) \\1\"\n",
    "match = re.match(pattern,\"word word\")\n",
    "if match:\n",
    "    print(\"match \")\n",
    "match1= re.match(pattern,\"abc def\")\n",
    "if match1:\n",
    "    print(\"match 1\")"
   ]
  },
  {
   "cell_type": "code",
   "execution_count": null,
   "metadata": {},
   "outputs": [],
   "source": [
    "---MORE USEFUL SPECIAL SEQUENCES ARE \\d  ,\\s AND \\w.\n",
    "THESE MATCH DIGITS ,WHITESPACES AND WORD CHARECTWERS RESPECTIVELY.\n",
    "VERSIONS OF THESE SPECIAL SEQUENCE WITH UPPER CASE LETTERS \\D,\\S,\\W."
   ]
  },
  {
   "cell_type": "code",
   "execution_count": 89,
   "metadata": {},
   "outputs": [
    {
     "name": "stdout",
     "output_type": "stream",
     "text": [
      "match \n"
     ]
    }
   ],
   "source": [
    "import re\n",
    "pattern = r\"(\\d+\\D)\"\n",
    "match =re.match(pattern,\"123,435535,3454\")\n",
    "if match:\n",
    "    print(\"match \")\n"
   ]
  },
  {
   "cell_type": "code",
   "execution_count": null,
   "metadata": {},
   "outputs": [],
   "source": [
    "---ADDITIONAL SPECIAL SEQUENCES ARE \\A,\\Z AND \\b.\n",
    "THE SQUENCES \\A AND \\Z MATCH THE BEGINNING AND END OF THE STRING ,RESPECTIVELY.\n",
    "THE SEQUENCE \\b MATCHES THE EMPTY STRING BETWEEN \\w AND \\W CHARECTERS ,OR\\w CHARECTERS AND THE BEGGINING OR END \n",
    "OF THE STRING.\n",
    "INFORMALLY IT REPRESENTS THE BOUNDRY BETWEEN THE WORDS .\n",
    "THE SEQUENCE \\B MATCHES THE EMPTY STRING ANYWHERE ELSE."
   ]
  },
  {
   "cell_type": "code",
   "execution_count": 91,
   "metadata": {},
   "outputs": [
    {
     "name": "stdout",
     "output_type": "stream",
     "text": [
      "match \n"
     ]
    }
   ],
   "source": [
    "import re\n",
    "pattern = r\"\\b(cat)\\b\"\n",
    "match = re.search(pattern,\"the cat sat!\")\n",
    "if match:\n",
    "    print(\"match \")"
   ]
  },
  {
   "cell_type": "markdown",
   "metadata": {},
   "source": [
    "# EMAIL EXTRATION\n",
    "TO DEMONSTRATE THE SIMPLE USAGE OF REGULAR EXPRESSIONS ,LETS CREATE A PROGRAM TO EXTRACT EMAIL ADDRESSES FROM A STRING.\n",
    "SUPPOSE WE HAVE TEXT CONTAINING THE EMAIL ADDESSES"
   ]
  },
  {
   "cell_type": "code",
   "execution_count": null,
   "metadata": {},
   "outputs": [],
   "source": [
    "str = \"please contact info@sololearn.com for assistance\""
   ]
  },
  {
   "cell_type": "code",
   "execution_count": null,
   "metadata": {},
   "outputs": [],
   "source": [
    "our goal is to extract the substring info@substring.com\n",
    "THE BASIC EMAIL ADDRESS CONSISTS OF A WORD AND MAY INCLUDE DOTS OR DASHES,THIS IS FOLLOWED BY THE @ SIGN AND THE \n",
    "DOMAIN NAME "
   ]
  },
  {
   "cell_type": "code",
   "execution_count": null,
   "metadata": {},
   "outputs": [],
   "source": [
    "#THE BASIC BUILDING OF THE REGULAR EXPRESSION:\n",
    " pattern = r\"([\\w\\.-]+)@([\\w\\.-]+)(\\.[\\w\\.]+)\""
   ]
  },
  {
   "cell_type": "code",
   "execution_count": 96,
   "metadata": {},
   "outputs": [
    {
     "name": "stdout",
     "output_type": "stream",
     "text": [
      "info@sololearn.com\n"
     ]
    }
   ],
   "source": [
    "import re\n",
    "pattern = r\"([\\w\\.-]+)@([\\w\\.-]+)(\\.[\\w\\.-]+)\"\n",
    "str = \"please contact info@sololearn.com\"\n",
    "match=re.search(pattern,str)\n",
    "if match:\n",
    "    print(match.group())"
   ]
  },
  {
   "cell_type": "code",
   "execution_count": null,
   "metadata": {},
   "outputs": [],
   "source": []
  },
  {
   "cell_type": "code",
   "execution_count": null,
   "metadata": {},
   "outputs": [],
   "source": []
  }
 ],
 "metadata": {
  "kernelspec": {
   "display_name": "Python 3",
   "language": "python",
   "name": "python3"
  },
  "language_info": {
   "codemirror_mode": {
    "name": "ipython",
    "version": 3
   },
   "file_extension": ".py",
   "mimetype": "text/x-python",
   "name": "python",
   "nbconvert_exporter": "python",
   "pygments_lexer": "ipython3",
   "version": "3.7.4"
  }
 },
 "nbformat": 4,
 "nbformat_minor": 2
}
