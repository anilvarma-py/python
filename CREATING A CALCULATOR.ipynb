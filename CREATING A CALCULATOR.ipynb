{
 "cells": [
  {
   "cell_type": "code",
   "execution_count": null,
   "metadata": {},
   "outputs": [],
   "source": [
    "while True :\n",
    "    print(\"options:\")\n",
    "    print(\"enter 'add' to add two numbers:\")\n",
    "    print(\"enter 'substract' to substract two numbers:\")\n",
    "    print(\"enter 'divide' to divide two numbers :\")\n",
    "    print(\"enter 'muntiply' to muntiply two numbers :\")\n",
    "    print(\"enter 'quit' to end the program\")\n",
    "    user_input =input('enter  :')\n",
    "    if user_input ==\"quit\":\n",
    "        break\n",
    "    elif user_input ==\"add\" :\n",
    "         num1 = float(input(\"enter a number :\"))\n",
    "         num2 = float(input(\"enter another number :\"))\n",
    "         result =str(num1 + num2 )\n",
    "         print(\"the answer is \" +result)\n",
    "    elif user_input ==\"subtract\" :\n",
    "        num1 = float(input(\"enter a number :\"))\n",
    "        num2 = float(input(\"enter another number :\"))\n",
    "        result =str(num1 - num2 )\n",
    "        print(\"the answer is \" +result)\n",
    "    elif user_input ==\"muntiply\" :\n",
    "        num1 = float(input(\"enter a number :\"))\n",
    "        num2 = float(input(\"enter another number :\")\n",
    "        result =str(num1 * num2 )\n",
    "        print(\"the answer is \" +result)             \n",
    "    elif user_input ==\"divide\" :\n",
    "        num1 = float(input(\"enter a number :\"))\n",
    "        num2 = float(input(\"enter another number :\"))\n",
    "        result =str(num1 // num2 )\n",
    "         print(\"the answer is \" +result)             \n",
    "    else :\n",
    "        print(\"unknown input\")"
   ]
  },
  {
   "cell_type": "code",
   "execution_count": null,
   "metadata": {},
   "outputs": [],
   "source": []
  },
  {
   "cell_type": "code",
   "execution_count": null,
   "metadata": {},
   "outputs": [],
   "source": []
  }
 ],
 "metadata": {
  "kernelspec": {
   "display_name": "Python 3",
   "language": "python",
   "name": "python3"
  },
  "language_info": {
   "codemirror_mode": {
    "name": "ipython",
    "version": 3
   },
   "file_extension": ".py",
   "mimetype": "text/x-python",
   "name": "python",
   "nbconvert_exporter": "python",
   "pygments_lexer": "ipython3",
   "version": "3.7.4"
  }
 },
 "nbformat": 4,
 "nbformat_minor": 2
}
