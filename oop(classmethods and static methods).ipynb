{
 "cells": [
  {
   "cell_type": "code",
   "execution_count": null,
   "metadata": {},
   "outputs": [],
   "source": [
    "CLASS METHOD AND STATIC METOD:\n",
    "    1) CLASS METHOD TAKES CLS AS FIRST PARAMETER,WHILE STATIC METHOD NEED NO SPECIFIC PARAMETERS.\n",
    "    2) STATIC METHODS KNOWS NOTHING ABOUT THE CLASS STATE,WHILE CLASS METHODS CAN ACCESS AND MODIFY CLASS RATE.\n",
    "    3) @CLASSMETHOD DECORATORS ARE USED TO CREATE CLASS METHOD WHEREAS\n",
    "       @STATICMETHOD DECORATORS ARE USED TO CREATE STATIC METHOD\n",
    "    "
   ]
  },
  {
   "cell_type": "code",
   "execution_count": null,
   "metadata": {},
   "outputs": [],
   "source": [
    "CLASS METHOD:"
   ]
  },
  {
   "cell_type": "code",
   "execution_count": 13,
   "metadata": {},
   "outputs": [
    {
     "name": "stdout",
     "output_type": "stream",
     "text": [
      "anil got 95 %\n",
      "2\n"
     ]
    }
   ],
   "source": [
    "class student :\n",
    "    counter=0\n",
    "    def __init__(self,name,marks):\n",
    "        self.name=name\n",
    "        self.marks=marks\n",
    "        student.counter=student.counter +1\n",
    "    def msg(self):\n",
    "        print(self.name ,\"got\", self.marks, \"%\")\n",
    "    @classmethod\n",
    "    def object_countt(cls):\n",
    "        return cls.counter\n",
    "s1=student(\"anil\",95)\n",
    "s2=student(\"raghu\",98)\n",
    "s1.msg()\n",
    "print(s1.object_countt())"
   ]
  },
  {
   "cell_type": "code",
   "execution_count": 32,
   "metadata": {},
   "outputs": [
    {
     "name": "stdout",
     "output_type": "stream",
     "text": [
      "anil got 90.0 %\n",
      "raghu got 95.0 %\n"
     ]
    }
   ],
   "source": [
    "class student:\n",
    "    def __init__(self,name,marks):\n",
    "        self.name=name\n",
    "        self.marks=marks\n",
    "    def msg(self):\n",
    "        print(self.name ,\"got\",self.marks,\"%\")\n",
    "    @classmethod\n",
    "    def get_per(cls,name,marks):\n",
    "        return cls(name,str((int(marks)/600)*100))\n",
    "\n",
    "s1=student.get_per(\"anil\",\"540\")\n",
    "s1.msg()\n",
    "s2= student.get_per(\"raghu\",\"570\")\n",
    "s2.msg()"
   ]
  },
  {
   "cell_type": "code",
   "execution_count": null,
   "metadata": {},
   "outputs": [],
   "source": [
    "STATIC METHOD:"
   ]
  },
  {
   "cell_type": "code",
   "execution_count": 36,
   "metadata": {},
   "outputs": [
    {
     "name": "stdout",
     "output_type": "stream",
     "text": [
      "anil got 93 %\n",
      "not belongs to school\n"
     ]
    }
   ],
   "source": [
    "class student:\n",
    "    def __init__(self,name,marks):\n",
    "        self.name=name\n",
    "        self.marks=marks\n",
    "    def msg(self):\n",
    "        print(self.name ,\"got\",self.marks,\"%\")\n",
    "    @staticmethod\n",
    "    def get_age(age):\n",
    "        if age <17:\n",
    "            print(\"belongs to school\")\n",
    "        else:\n",
    "            print(\"not belongs to school\")\n",
    "s1=student(\"anil\",\"93\")\n",
    "s1.msg()\n",
    "s1.get_age(19)\n",
    "   \n"
   ]
  },
  {
   "cell_type": "code",
   "execution_count": null,
   "metadata": {},
   "outputs": [],
   "source": []
  }
 ],
 "metadata": {
  "kernelspec": {
   "display_name": "Python 3",
   "language": "python",
   "name": "python3"
  },
  "language_info": {
   "codemirror_mode": {
    "name": "ipython",
    "version": 3
   },
   "file_extension": ".py",
   "mimetype": "text/x-python",
   "name": "python",
   "nbconvert_exporter": "python",
   "pygments_lexer": "ipython3",
   "version": "3.7.4"
  }
 },
 "nbformat": 4,
 "nbformat_minor": 2
}
