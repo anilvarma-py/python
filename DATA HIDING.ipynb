{
 "cells": [
  {
   "cell_type": "markdown",
   "metadata": {},
   "source": [
    " A  KEY  PART   OF OBJECT  ORIENTED PROGRAMMING IS   ENCAPSULATION , WHICH  MEANS PACAGING  OF RELATED VARIABLES AND  FUNCTIONS INTO SINGLE EASY TO USE OBJECT -INSTANCE OF A CLASS. A RELATED CONCEPT IS DATA HIDING , WHICH  MEANS  THAT IMPLEMENTATION DETAILS OF A CLASS  SHOULD BE  HIDDEN, AND A CLEAN STANDARD INTERFACE  ( AN ABSTRACT TYPE THAT IS USED TO SPECIFY THE BEHAVIOUR THAT CLASES MUST PRESENT )  IS TO BE PRESENTED FOR THOSE WHO WANT TO USE THE CLASS ,IN OTHER PROGRAMMING LANGUAGES THIS IS USUALLY DONE WITH PRIVATE METHODS  AND ATTRIBUTRES ,WHICH BLOCK EXTERNAL ACCESS TO CERTAIN METHODS AND ATTRIBUTES IN A CLASS."
   ]
  },
  {
   "cell_type": "code",
   "execution_count": 21,
   "metadata": {},
   "outputs": [
    {
     "name": "stdout",
     "output_type": "stream",
     "text": [
      "anil has a balance of  0\n",
      "anil has a balance of  100\n",
      "anil has a balance of  67\n"
     ]
    }
   ],
   "source": [
    "class account :\n",
    "    def __init__(self,balance,name) :\n",
    "        self.balance=balance\n",
    "        self.name=name\n",
    "        \n",
    "    def credit(self,deposit) :\n",
    "        self.balance=self.balance + deposit\n",
    "        \n",
    "    def debit (self,withdrawl):\n",
    "        self.balance = self.balance - withdrawl\n",
    "customer = account(0,\"anil\")\n",
    "print(customer.name, \"has a balance of \",customer.balance)\n",
    "customer.credit(100)\n",
    "print(customer.name, \"has a balance of \",customer.balance)\n",
    "customer.debit(33)\n",
    "print(customer.name ,\"has a balance of \",customer.balance)"
   ]
  },
  {
   "cell_type": "code",
   "execution_count": null,
   "metadata": {},
   "outputs": [],
   "source": []
  },
  {
   "cell_type": "code",
   "execution_count": 28,
   "metadata": {},
   "outputs": [
    {
     "name": "stdout",
     "output_type": "stream",
     "text": [
      "anil has a balance of  0\n",
      "anil has a balance of  100\n",
      "anil has a balance of  67\n"
     ]
    }
   ],
   "source": [
    "class account :\n",
    "    def __init__(self,balance,name) :\n",
    "        self.__balance=balance #we kept double underscore to hide that variable ,now it cant be direct accesable\n",
    "        self.name=name\n",
    "        \n",
    "    def credit(self,deposit) :\n",
    "        self.__balance=self.__balance + deposit\n",
    "        \n",
    "    def debit (self,withdrawl):\n",
    "        self.__balance = self.__balance - withdrawl\n",
    "    def get_balance(self):\n",
    "        return self.__balance\n",
    "customer = account(0,\"anil\")\n",
    "print(customer.name, \"has a balance of \",customer.get_balance())\n",
    "customer.credit(100)\n",
    "print(customer.name, \"has a balance of \",customer.get_balance())\n",
    "customer.debit(33)\n",
    "print(customer.name ,\"has a balance of \",customer.get_balance())"
   ]
  },
  {
   "cell_type": "code",
   "execution_count": null,
   "metadata": {},
   "outputs": [],
   "source": []
  },
  {
   "cell_type": "code",
   "execution_count": null,
   "metadata": {},
   "outputs": [],
   "source": [
    "\n"
   ]
  }
 ],
 "metadata": {
  "kernelspec": {
   "display_name": "Python 3",
   "language": "python",
   "name": "python3"
  },
  "language_info": {
   "codemirror_mode": {
    "name": "ipython",
    "version": 3
   },
   "file_extension": ".py",
   "mimetype": "text/x-python",
   "name": "python",
   "nbconvert_exporter": "python",
   "pygments_lexer": "ipython3",
   "version": "3.7.4"
  }
 },
 "nbformat": 4,
 "nbformat_minor": 2
}
