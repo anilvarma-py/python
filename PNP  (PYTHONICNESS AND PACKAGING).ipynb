{
 "cells": [
  {
   "cell_type": "code",
   "execution_count": null,
   "metadata": {},
   "outputs": [],
   "source": [
    "--THE ZEN OF THE PYTHON\n",
    "WRITING PROGRAMS THAT ACTUALLY DO WHAT THEY ARE SUPPOSSED TO DO IS JUST ONE COMPOTENT OF BEING A  GOOD PROGRAMMER\n",
    "ITS ALSO IMPORTANT TO WRITE A CLEAN CODE THAT IS EASILY UNDERSTOOD ,EVEN AFTER A WEEKS AFTER YOU HAVE WRITTEN IT.\n",
    "USE THE FOLLOWING CODE WRITTEN IN ZEN OF PYTHON THAT GUIDES TO PROGRAMMING MORE READABLE "
   ]
  },
  {
   "cell_type": "code",
   "execution_count": 1,
   "metadata": {},
   "outputs": [
    {
     "name": "stdout",
     "output_type": "stream",
     "text": [
      "The Zen of Python, by Tim Peters\n",
      "\n",
      "Beautiful is better than ugly.\n",
      "Explicit is better than implicit.\n",
      "Simple is better than complex.\n",
      "Complex is better than complicated.\n",
      "Flat is better than nested.\n",
      "Sparse is better than dense.\n",
      "Readability counts.\n",
      "Special cases aren't special enough to break the rules.\n",
      "Although practicality beats purity.\n",
      "Errors should never pass silently.\n",
      "Unless explicitly silenced.\n",
      "In the face of ambiguity, refuse the temptation to guess.\n",
      "There should be one-- and preferably only one --obvious way to do it.\n",
      "Although that way may not be obvious at first unless you're Dutch.\n",
      "Now is better than never.\n",
      "Although never is often better than *right* now.\n",
      "If the implementation is hard to explain, it's a bad idea.\n",
      "If the implementation is easy to explain, it may be a good idea.\n",
      "Namespaces are one honking great idea -- let's do more of those!\n"
     ]
    }
   ],
   "source": [
    "import this"
   ]
  },
  {
   "cell_type": "code",
   "execution_count": null,
   "metadata": {},
   "outputs": [],
   "source": [
    "PEP(PYTHON ENHANCEMENT PROPOSEL) ARE SUGGESTIONS FOR IMPROVEMENT TO LANGUAGE, MADE BY EXPERIENCED PYTHON DEVELOPERS.\n",
    "PEP 8 IS A STYLE GUIDE ON THE SUBJECT OF WRITING READABLE CODE .IT CONTANS  A NUMBER OF GUIDELINES IN REFERENCE TO\n",
    "VARIABLE NAMES ,WHICH ARE SUMMERIZED HERE.\n",
    "---MODULES SHOULD HAVE SHORT, ALL LOWER CASE NAMES.\n",
    "---CLASS NAMES SHOULD BE IN THE CAPWORDS STYLE\n",
    "---MOST VARIABLE NAMES AND FUCTION NAMES SHOULD BE LOWERCASE_WITH_UNDERSCORES\n",
    "---CONSTANTS(VARIABLES WITH NEVER CHANGE VALUE )SHOULD BE CAPS WITH UNDERSCORES\n",
    "---NAMES THAT WOULD CLASH WITH KEYWORDS SHOULD HAVE TRAILING UNDERSORE.\n",
    "---PEP8 ALSO RECCOMENDS USING SPACES AROUND OPERATORS AND AFTER  COMMAS TO MAKE CODE MORE READABLE."
   ]
  },
  {
   "cell_type": "code",
   "execution_count": null,
   "metadata": {},
   "outputs": [],
   "source": [
    "---OTHER PEP 8 SUGGESIONS INCUDE THE FOLLOWING :\n",
    "-LINES SHOULD'NT BE LONGER THAN 80 CHARECTERS\n",
    "--FROM MODULE IMPORT *,SHOULD BE AVOIDED\n",
    "--THERE SHOULD BE ONLY ONE STATEMENT PER LINE\n",
    "--IT ALSO SUGGESTS THAT TO USE SPACES INSTED OF TABS TO INDENT,HOWEVER TO SOME EXTENT THIS THE MATEER OF SOME \n",
    "PERSONAL PREFERENCE,IF YOU USE  SPACES ,ONLY USE 4 PER LINE,ITS MORE IMPORTANT TO CHOOSE ONE AND STICK TO IT.\n",
    "---THE MOST IMPORTANT ADVICE IN PEP IS TO IGNORE IT WHEN IT MAKES SENSE TO DO IT SO .DONT BOTHER WITH FOLLOWING\n",
    "PEP SUGGESIONS WHEN IT CAUSE YOUR CODE TO BE LESS READABLE,INCOSISTANT WITH THE SURROUNDING CODE ,NOT BACKWARDS \n",
    "COMPATIABLE\n",
    "---HOWEVER,BY AND LARGE ,THE FOLLOWING PEP WILL GREATLY ENHANCE THE QUALITY OF THE CODE."
   ]
  },
  {
   "cell_type": "code",
   "execution_count": null,
   "metadata": {},
   "outputs": [],
   "source": []
  }
 ],
 "metadata": {
  "kernelspec": {
   "display_name": "Python 3",
   "language": "python",
   "name": "python3"
  },
  "language_info": {
   "codemirror_mode": {
    "name": "ipython",
    "version": 3
   },
   "file_extension": ".py",
   "mimetype": "text/x-python",
   "name": "python",
   "nbconvert_exporter": "python",
   "pygments_lexer": "ipython3",
   "version": "3.7.4"
  }
 },
 "nbformat": 4,
 "nbformat_minor": 2
}
