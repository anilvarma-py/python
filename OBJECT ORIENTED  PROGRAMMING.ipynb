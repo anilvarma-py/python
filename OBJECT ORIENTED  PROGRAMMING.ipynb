{
 "cells": [
  {
   "cell_type": "markdown",
   "metadata": {},
   "source": [
    "# CLASSES\n",
    "WE HAVE LOOKED UP TWO PARADIGMS OF PROGRAMMING -IMPERATIVE(USING STATEMENTS,LOOPS,AND FUNCTIONS AS SUB ROUTINES) AND FUNCTIONAL(USING PURE FUNCTIONS,HIGHORDER FUNCTIONS AND RECURSION)"
   ]
  },
  {
   "cell_type": "markdown",
   "metadata": {},
   "source": [
    "#### ANOTHER VERY POPULAR PARADIGM IS OBJECT ORIENTED PROGRAMMING(OOP) \n",
    "OBJECTS ARE CREATED BY USING CLASSES,WHICH ARE ACTUALLY THE FOCAL POINT OF OOP.11111111111\n",
    "THE CLASS DESCRIBES WHAT THE OBJECT WILL BE ,BUT IS SEPERATE FROM OBJECT ITSELF,IN OTHER WORDS ,A CLASS CAN BE DESCRIBED AS AN OBJECT'S BLUEPRINT,DESCRIPTION OR DEFINATION.\n",
    "YOU CAN USE SAME CLASS AS A BLUEPRINT FOR CREATING MULTIPLE DIFFERENT OBJECTS.\n",
    "\n",
    "\n",
    "CLASSES ARE CREATED BY USING THE KEYWORD CLASS AND AN INDENTED BLOCK,WHICH CONTAINS CLASS METHODS(WHICH ARE FUNCTIONS).\n",
    "\n"
   ]
  },
  {
   "cell_type": "code",
   "execution_count": 28,
   "metadata": {},
   "outputs": [],
   "source": [
    "class Car:\n",
    "    def _init_(self,colour,legs):\n",
    "        self.colour=colour\n",
    "        self.legs=legs\n",
    "    def car_colour(self):\n",
    "        print(\"colour of the car is \"+self.colour)\n",
    "\n",
    "\n",
    "    \n",
    "\n",
    " "
   ]
  },
  {
   "cell_type": "code",
   "execution_count": 39,
   "metadata": {},
   "outputs": [
    {
     "ename": "TypeError",
     "evalue": "Car() takes no arguments",
     "output_type": "error",
     "traceback": [
      "\u001b[1;31m---------------------------------------------------------------------------\u001b[0m",
      "\u001b[1;31mTypeError\u001b[0m                                 Traceback (most recent call last)",
      "\u001b[1;32m<ipython-input-39-4c27a1eb8f70>\u001b[0m in \u001b[0;36m<module>\u001b[1;34m\u001b[0m\n\u001b[1;32m----> 1\u001b[1;33m \u001b[0mbmw\u001b[0m \u001b[1;33m=\u001b[0m \u001b[0mCar\u001b[0m\u001b[1;33m(\u001b[0m\u001b[1;34m\"blue\"\u001b[0m\u001b[1;33m,\u001b[0m\u001b[1;36m4\u001b[0m\u001b[1;33m)\u001b[0m\u001b[1;33m\u001b[0m\u001b[1;33m\u001b[0m\u001b[0m\n\u001b[0m",
      "\u001b[1;31mTypeError\u001b[0m: Car() takes no arguments"
     ]
    }
   ],
   "source": [
    "bmw = Car(\"blue\",4)"
   ]
  },
  {
   "cell_type": "code",
   "execution_count": 33,
   "metadata": {},
   "outputs": [
    {
     "ename": "AttributeError",
     "evalue": "'tuple' object has no attribute 'car_colour'",
     "output_type": "error",
     "traceback": [
      "\u001b[1;31m---------------------------------------------------------------------------\u001b[0m",
      "\u001b[1;31mAttributeError\u001b[0m                            Traceback (most recent call last)",
      "\u001b[1;32m<ipython-input-33-58a72aa9e59d>\u001b[0m in \u001b[0;36m<module>\u001b[1;34m\u001b[0m\n\u001b[1;32m----> 1\u001b[1;33m \u001b[0mbmw\u001b[0m\u001b[1;33m.\u001b[0m\u001b[0mcar_colour\u001b[0m\u001b[1;33m(\u001b[0m\u001b[0mself\u001b[0m\u001b[1;33m)\u001b[0m\u001b[1;33m\u001b[0m\u001b[1;33m\u001b[0m\u001b[0m\n\u001b[0m",
      "\u001b[1;31mAttributeError\u001b[0m: 'tuple' object has no attribute 'car_colour'"
     ]
    }
   ],
   "source": [
    "bmw.car_colour(self)"
   ]
  },
  {
   "cell_type": "code",
   "execution_count": 73,
   "metadata": {},
   "outputs": [
    {
     "ename": "NameError",
     "evalue": "name 'introduce_self' is not defined",
     "output_type": "error",
     "traceback": [
      "\u001b[1;31m---------------------------------------------------------------------------\u001b[0m",
      "\u001b[1;31mNameError\u001b[0m                                 Traceback (most recent call last)",
      "\u001b[1;32m<ipython-input-73-1109d6922c3e>\u001b[0m in \u001b[0;36m<module>\u001b[1;34m\u001b[0m\n\u001b[0;32m      8\u001b[0m     \u001b[1;32mdef\u001b[0m \u001b[0mintroduce_self\u001b[0m\u001b[1;33m(\u001b[0m\u001b[1;33m)\u001b[0m\u001b[1;33m:\u001b[0m\u001b[1;33m\u001b[0m\u001b[1;33m\u001b[0m\u001b[0m\n\u001b[0;32m      9\u001b[0m         \u001b[0mprint\u001b[0m\u001b[1;33m(\u001b[0m\u001b[1;34m\"my name is \"\u001b[0m\u001b[1;33m+\u001b[0m\u001b[0mself\u001b[0m\u001b[1;33m.\u001b[0m\u001b[0mname\u001b[0m\u001b[1;33m)\u001b[0m\u001b[1;33m\u001b[0m\u001b[1;33m\u001b[0m\u001b[0m\n\u001b[1;32m---> 10\u001b[1;33m \u001b[0mprint\u001b[0m\u001b[1;33m(\u001b[0m\u001b[0mintroduce_self\u001b[0m\u001b[1;33m(\u001b[0m\u001b[0mrobot\u001b[0m\u001b[1;33m,\u001b[0m\u001b[0manil\u001b[0m\u001b[1;33m,\u001b[0m\u001b[0mfair\u001b[0m\u001b[1;33m,\u001b[0m\u001b[1;36m70\u001b[0m\u001b[1;33m)\u001b[0m\u001b[1;33m)\u001b[0m\u001b[1;33m\u001b[0m\u001b[1;33m\u001b[0m\u001b[0m\n\u001b[0m\u001b[0;32m     11\u001b[0m \u001b[1;33m\u001b[0m\u001b[0m\n\u001b[0;32m     12\u001b[0m \u001b[1;33m\u001b[0m\u001b[0m\n",
      "\u001b[1;31mNameError\u001b[0m: name 'introduce_self' is not defined"
     ]
    }
   ],
   "source": [
    "class robot :\n",
    "    def __int__(self,n,c,w):\n",
    "        self.name=n\n",
    "        self.colour=c\n",
    "        self.weight=w\n",
    "        \n",
    "        \n",
    "    def introduce_self(self):\n",
    "        print(\"my name is \"+self.name)\n",
    "print(introduce_self(robot,anil,fair,70))\n",
    "\n",
    "        "
   ]
  },
  {
   "cell_type": "code",
   "execution_count": 65,
   "metadata": {},
   "outputs": [
    {
     "ename": "TypeError",
     "evalue": "robot() takes no arguments",
     "output_type": "error",
     "traceback": [
      "\u001b[1;31m---------------------------------------------------------------------------\u001b[0m",
      "\u001b[1;31mTypeError\u001b[0m                                 Traceback (most recent call last)",
      "\u001b[1;32m<ipython-input-65-b7a93e4341d3>\u001b[0m in \u001b[0;36m<module>\u001b[1;34m\u001b[0m\n\u001b[1;32m----> 1\u001b[1;33m \u001b[0mr1\u001b[0m\u001b[1;33m=\u001b[0m \u001b[0mrobot\u001b[0m\u001b[1;33m(\u001b[0m\u001b[1;34m\"anil\"\u001b[0m\u001b[1;33m,\u001b[0m\u001b[1;34m\"dark\"\u001b[0m\u001b[1;33m,\u001b[0m\u001b[1;36m80\u001b[0m\u001b[1;33m)\u001b[0m\u001b[1;33m\u001b[0m\u001b[1;33m\u001b[0m\u001b[0m\n\u001b[0m\u001b[0;32m      2\u001b[0m \u001b[0mr2\u001b[0m\u001b[1;33m=\u001b[0m\u001b[0mrobot\u001b[0m\u001b[1;33m(\u001b[0m\u001b[1;34m\"raghu\"\u001b[0m\u001b[1;33m,\u001b[0m\u001b[1;34m\"fair\"\u001b[0m\u001b[1;33m,\u001b[0m\u001b[1;36m77\u001b[0m\u001b[1;33m)\u001b[0m\u001b[1;33m\u001b[0m\u001b[1;33m\u001b[0m\u001b[0m\n\u001b[0;32m      3\u001b[0m \u001b[1;33m\u001b[0m\u001b[0m\n",
      "\u001b[1;31mTypeError\u001b[0m: robot() takes no arguments"
     ]
    }
   ],
   "source": [
    "r1= robot(\"anil\",\"dark\",80)\n",
    "r2=robot(\"raghu\",\"fair\",77)\n",
    "        "
   ]
  },
  {
   "cell_type": "code",
   "execution_count": 74,
   "metadata": {},
   "outputs": [
    {
     "name": "stdout",
     "output_type": "stream",
     "text": [
      "ginger\n"
     ]
    }
   ],
   "source": [
    "class cat:\n",
    "    def __init__(self,color,legs):\n",
    "        self.color=color\n",
    "        self.legs=legs\n",
    "        \n",
    "felix=cat(\"ginger\",5)\n",
    "print(felix.color)\n"
   ]
  },
  {
   "cell_type": "markdown",
   "metadata": {},
   "source": [
    "# methods\n",
    "CLASSES CAN HAVE ANOTHER METHODS DEFINED TO ADD FUNCTIONALITY TO THEM .\n",
    "REMEMBER THAT METHODS SHOULD HAVE \"SELF\" AS THE FIRST PARAMETE.\n",
    "THESE METHODS ARE ACCESSED BY USING THE SAME \"DOT SYNTAX\" AS ATTRIBUTES.\n"
   ]
  },
  {
   "cell_type": "code",
   "execution_count": 80,
   "metadata": {},
   "outputs": [
    {
     "name": "stdout",
     "output_type": "stream",
     "text": [
      "lab\n",
      "woof! rocky\n"
     ]
    }
   ],
   "source": [
    "class Dog :\n",
    "    def __init__(self,name,color,breed):\n",
    "        self.name=name\n",
    "        self.color=color\n",
    "        self.breed=breed\n",
    "    def bark(self):\n",
    "        print(\"woof! \" +self.name)\n",
    "obj=Dog(\"rocky\",\"black\",\"lab\")\n",
    "print(obj.breed)\n",
    "obj.bark()\n"
   ]
  },
  {
   "cell_type": "markdown",
   "metadata": {},
   "source": [
    "#### TRYING TO ACCESS AN ATTRIBUTE OF AN OBJECT THAT IS'NT DEFINED CAUSES AN ATTRIBUTE ERROR. THIS ALSO APPLIES WHEN YOU CALLS AN UNDEFINED METHOD."
   ]
  },
  {
   "cell_type": "code",
   "execution_count": 91,
   "metadata": {},
   "outputs": [
    {
     "ename": "AttributeError",
     "evalue": "'Rectangle' object has no attribute 'u'",
     "output_type": "error",
     "traceback": [
      "\u001b[1;31m---------------------------------------------------------------------------\u001b[0m",
      "\u001b[1;31mAttributeError\u001b[0m                            Traceback (most recent call last)",
      "\u001b[1;32m<ipython-input-91-2dbc2da9328e>\u001b[0m in \u001b[0;36m<module>\u001b[1;34m\u001b[0m\n\u001b[0;32m      5\u001b[0m         \u001b[0mself\u001b[0m\u001b[1;33m.\u001b[0m\u001b[0mheight\u001b[0m\u001b[1;33m=\u001b[0m\u001b[0mh\u001b[0m\u001b[1;33m\u001b[0m\u001b[1;33m\u001b[0m\u001b[0m\n\u001b[0;32m      6\u001b[0m \u001b[0mrect\u001b[0m \u001b[1;33m=\u001b[0m \u001b[0mRectangle\u001b[0m\u001b[1;33m(\u001b[0m\u001b[1;36m9\u001b[0m\u001b[1;33m,\u001b[0m\u001b[1;36m5\u001b[0m\u001b[1;33m,\u001b[0m\u001b[1;36m4\u001b[0m\u001b[1;33m)\u001b[0m\u001b[1;33m\u001b[0m\u001b[1;33m\u001b[0m\u001b[0m\n\u001b[1;32m----> 7\u001b[1;33m \u001b[0mprint\u001b[0m\u001b[1;33m(\u001b[0m\u001b[0mrect\u001b[0m\u001b[1;33m.\u001b[0m\u001b[0mu\u001b[0m\u001b[1;33m)\u001b[0m\u001b[1;33m\u001b[0m\u001b[1;33m\u001b[0m\u001b[0m\n\u001b[0m",
      "\u001b[1;31mAttributeError\u001b[0m: 'Rectangle' object has no attribute 'u'"
     ]
    }
   ],
   "source": [
    "class Rectangle :\n",
    "    def __init__(self,l,b,h):\n",
    "        self.length=l\n",
    "        self.width=b\n",
    "        self.height=h\n",
    "rect = Rectangle(9,5,4)\n",
    "print(rect.u)"
   ]
  },
  {
   "cell_type": "code",
   "execution_count": null,
   "metadata": {},
   "outputs": [],
   "source": []
  },
  {
   "cell_type": "code",
   "execution_count": null,
   "metadata": {},
   "outputs": [],
   "source": []
  }
 ],
 "metadata": {
  "kernelspec": {
   "display_name": "Python 3",
   "language": "python",
   "name": "python3"
  },
  "language_info": {
   "codemirror_mode": {
    "name": "ipython",
    "version": 3
   },
   "file_extension": ".py",
   "mimetype": "text/x-python",
   "name": "python",
   "nbconvert_exporter": "python",
   "pygments_lexer": "ipython3",
   "version": "3.7.4"
  }
 },
 "nbformat": 4,
 "nbformat_minor": 2
}
