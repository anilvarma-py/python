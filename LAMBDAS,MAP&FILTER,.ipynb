{
 "cells": [
  {
   "cell_type": "markdown",
   "metadata": {},
   "source": [
    "# LAMBDAS\n",
    "CREATING A FUNCTION NORMALLY(USING def) ASSIGNS IT TO A VARIABLE AUTOMATICALLY\n",
    "\n",
    "THIS IS DIFFERENT FROM CEREATION OF OTHER OBJECTS SUCH AS INTEGERS AND STRINGS--WHICH CAN BE CREATED IN THE FLY WITHOUT ASSIGNING TO VARIABLE"
   ]
  },
  {
   "cell_type": "markdown",
   "metadata": {},
   "source": [
    "IN LAMBDA SYNTAX IT DOESNT REQUIRED TO ASSISE TO VAIABLE AND WE CAN DO OPERATIONS WITHIN ARGUMENT SIMPLY\n",
    "in python anonymous functions are the functions that are defined without a name\n",
    "while normal functions are defined using a def keyword,anonymous functions are defined using a lamda keyword,hence anonymous functions are also called lambda functions."
   ]
  },
  {
   "cell_type": "code",
   "execution_count": 2,
   "metadata": {},
   "outputs": [
    {
     "name": "stdout",
     "output_type": "stream",
     "text": [
      "6\n"
     ]
    }
   ],
   "source": [
    "#NAMED SYNTAX\n",
    "def my_func(f,arg):\n",
    "    return(f(arg))\n",
    "def add(x):\n",
    "    return x+4\n",
    "print(my_func(add,2))"
   ]
  },
  {
   "cell_type": "code",
   "execution_count": 8,
   "metadata": {},
   "outputs": [
    {
     "name": "stdout",
     "output_type": "stream",
     "text": [
      "86\n"
     ]
    }
   ],
   "source": [
    "#lambdas syntax\n",
    "def my_fun(f,arg):\n",
    "    return f(arg)\n",
    "print(my_fun(lambda x:x+77,9))\n",
    "    "
   ]
  },
  {
   "cell_type": "code",
   "execution_count": 10,
   "metadata": {},
   "outputs": [
    {
     "name": "stdout",
     "output_type": "stream",
     "text": [
      "86\n"
     ]
    }
   ],
   "source": [
    "print((lambda x:x+77)(9))"
   ]
  },
  {
   "cell_type": "markdown",
   "metadata": {},
   "source": [
    "# note: lambda functions  are'nt as powerful as named functions ,they can do things that require a single expression-usually equivalent to a single line of code"
   ]
  },
  {
   "cell_type": "code",
   "execution_count": 11,
   "metadata": {},
   "outputs": [
    {
     "name": "stdout",
     "output_type": "stream",
     "text": [
      "150\n"
     ]
    }
   ],
   "source": [
    "print((lambda x,y:x*y*x)(5,6))"
   ]
  },
  {
   "cell_type": "raw",
   "metadata": {},
   "source": [
    "### lambda function can be assigned to a variable and can be used as a normal function"
   ]
  },
  {
   "cell_type": "code",
   "execution_count": 12,
   "metadata": {},
   "outputs": [
    {
     "name": "stdout",
     "output_type": "stream",
     "text": [
      "121\n"
     ]
    }
   ],
   "source": [
    "exp=lambda x:x+44\n",
    "print(exp(77))\n",
    "\n"
   ]
  },
  {
   "cell_type": "code",
   "execution_count": 13,
   "metadata": {},
   "outputs": [
    {
     "name": "stdout",
     "output_type": "stream",
     "text": [
      "13\n"
     ]
    }
   ],
   "source": [
    "triple=lambda x:x*3\n",
    "add=lambda x,y:x+y\n",
    "print(add(triple(3),4))"
   ]
  },
  {
   "cell_type": "markdown",
   "metadata": {},
   "source": [
    "# MAP\n",
    "THE BUILT IN FUNCTION \"MAP\" AND \"FILTER\" ARE VERY USEFUL HIGHER ORDER FUNCTIONS THAT OPERATE ON LISTS "
   ]
  },
  {
   "cell_type": "markdown",
   "metadata": {},
   "source": [
    "An iterable is any Python object capable of returning its members one at a time, permitting it to be iterated over in a for-loop. Familiar examples of iterables include lists, tuples, and strings - any such sequence can be iterated over in a for-loop"
   ]
  },
  {
   "cell_type": "code",
   "execution_count": 15,
   "metadata": {},
   "outputs": [
    {
     "name": "stdout",
     "output_type": "stream",
     "text": [
      "[16, 27, 38, 49, 60, 71]\n"
     ]
    }
   ],
   "source": [
    "def add_five(x):\n",
    "    return x+5\n",
    "nums=[11,22,33,44,55,66]\n",
    "result=list(map(add_five,nums))\n",
    "print(result)\n"
   ]
  },
  {
   "cell_type": "code",
   "execution_count": 2,
   "metadata": {},
   "outputs": [
    {
     "name": "stdout",
     "output_type": "stream",
     "text": [
      "[16, 27, 38, 49, 561, 671]\n"
     ]
    }
   ],
   "source": [
    "#map function with lambda syntax\n",
    "nums=[11,22,33,44,556,666]\n",
    "result=list(map(lambda x:x+5,nums))\n",
    "print(result)"
   ]
  },
  {
   "cell_type": "code",
   "execution_count": 19,
   "metadata": {},
   "outputs": [
    {
     "name": "stdout",
     "output_type": "stream",
     "text": [
      "[5, 10, 15, 20, 25, 30, 35, 40, 45]\n"
     ]
    }
   ],
   "source": [
    "def mun(x):\n",
    "    return x*5\n",
    "nums=[1,2,3,4,5,6,7,8,9]\n",
    "result=list(map(mun,nums))\n",
    "print(result)"
   ]
  },
  {
   "cell_type": "markdown",
   "metadata": {},
   "source": [
    "# filter fun\n",
    "THE FUNCTION FILTER ,FILTERS THE ITERABLE BY REMOVING ITEMS THAT DONT MATCH A PREDICATE(A FUNCTION THAT RESULTS A BOOLEAN) "
   ]
  },
  {
   "cell_type": "code",
   "execution_count": 20,
   "metadata": {},
   "outputs": [
    {
     "name": "stdout",
     "output_type": "stream",
     "text": [
      "[22, 4444, 66, 88]\n"
     ]
    }
   ],
   "source": [
    "nums=[11,22,4444,66,77,88]\n",
    "result=list(filter(lambda x:x%2==0,nums))\n",
    "print(result)"
   ]
  },
  {
   "cell_type": "code",
   "execution_count": null,
   "metadata": {},
   "outputs": [],
   "source": []
  }
 ],
 "metadata": {
  "kernelspec": {
   "display_name": "Python 3",
   "language": "python",
   "name": "python3"
  },
  "language_info": {
   "codemirror_mode": {
    "name": "ipython",
    "version": 3
   },
   "file_extension": ".py",
   "mimetype": "text/x-python",
   "name": "python",
   "nbconvert_exporter": "python",
   "pygments_lexer": "ipython3",
   "version": "3.7.4"
  }
 },
 "nbformat": 4,
 "nbformat_minor": 2
}
